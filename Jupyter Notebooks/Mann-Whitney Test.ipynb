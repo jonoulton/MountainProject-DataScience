{
 "cells": [
  {
   "cell_type": "markdown",
   "metadata": {},
   "source": [
    "# Import the Modules"
   ]
  },
  {
   "cell_type": "code",
   "execution_count": 126,
   "metadata": {},
   "outputs": [],
   "source": [
    "import pandas as pd\n",
    "import numpy as np\n",
    "from mpl_toolkits import mplot3d\n",
    "import matplotlib.pyplot as plt\n",
    "import scipy.stats as stats\n",
    "%run mpFunctions.py"
   ]
  },
  {
   "cell_type": "markdown",
   "metadata": {},
   "source": [
    "# Import the Datasets"
   ]
  },
  {
   "cell_type": "code",
   "execution_count": 10,
   "metadata": {},
   "outputs": [],
   "source": [
    "peopleFilepath = './Data/pickledPeople.pkl'\n",
    "voteFilepath = './Data/pickledVotes_unpacked.pkl'\n",
    "routeFilepath = './Data/pickledRoutes_unpacked.pkl'\n",
    "\n",
    "people = pd.read_pickle(peopleFilepath)\n",
    "votes = pd.read_pickle(voteFilepath)\n",
    "routes = pd.read_pickle(routeFilepath)"
   ]
  },
  {
   "cell_type": "markdown",
   "metadata": {},
   "source": [
    "# Isolate the datasets of interest / Prep for Mann-Whitney Test"
   ]
  },
  {
   "cell_type": "code",
   "execution_count": 131,
   "metadata": {
    "scrolled": false
   },
   "outputs": [
    {
     "name": "stdout",
     "output_type": "stream",
     "text": [
      "Number of Sport/Trad Routes (NO OVERLAP)\n",
      "There are 66706 Sport Routes\n",
      "There are 56548 Trad Routes\n",
      "\n"
     ]
    },
    {
     "data": {
      "image/png": "[encoded data removed]",
      "text/plain": [
       "<Figure size 720x432 with 1 Axes>"
      ]
     },
     "metadata": {
      "needs_background": "light"
     },
     "output_type": "display_data"
    }
   ],
   "source": [
    "# Isolate routes that are Trad from Sport (NO OVERLAP)\n",
    "sport = routes.loc[(routes['sport']==True) & (routes['trad']==False)]['simpleDiffRating']\n",
    "trad = routes.loc[(routes['trad']==True) & (routes['sport']==False)]['simpleDiffRating']\n",
    "\n",
    "# Look at the length of each\n",
    "print(\"Number of Sport/Trad Routes (NO OVERLAP)\")\n",
    "print(\"There are {:.0f} Sport Routes\".format(len(sport)))\n",
    "print(\"There are {:.0f} Trad Routes\".format(len(trad)))\n",
    "print()\n",
    "\n",
    "# Reduce the ratings to 5.0-5.15, and convert them into dictionaries with density information\n",
    "# After these 3 lines, sport and trad will be a list of density values for the ratings in 'ratings', and sorted in the same order as the 'ratings' list\n",
    "ratings = ['5.0', '5.1', '5.2', '5.3', '5.4', '5.5', '5.6', '5.7', '5.8', '5.9', '5.10', '5.11', '5.12', '5.13', '5.14', '5.15']\n",
    "sport = list(countRatings(reduceRatings(sport), density=True).values())\n",
    "trad = list(countRatings(reduceRatings(trad), density=True).values())\n",
    "\n",
    "plot_sport_vs_trad_simple(sport, trad)\n",
    "\n",
    "# NOTE ON FUNCTIONS:\n",
    "# The reduceRatings function & the countRatings function are defined in mpFunctions.py\n"
   ]
  },
  {
   "cell_type": "markdown",
   "metadata": {},
   "source": [
    "# Perform the Mann-Whitney Test"
   ]
  },
  {
   "cell_type": "code",
   "execution_count": 130,
   "metadata": {},
   "outputs": [
    {
     "name": "stdout",
     "output_type": "stream",
     "text": [
      "MANN-WHITNEY U-TEST RESULTS\n",
      "~~~~~~~~~~~~~~~~~~~~~~~~~~~\n",
      "The U-Stat for MW-Test is 117.000\n",
      "The P-Value for MW-Test is 0.346\n"
     ]
    }
   ],
   "source": [
    "\"\"\"\n",
    "NOTE ON MANN-WHITNEY TEST:\n",
    "THE MW-Test is a nonparametric test of the null hypothesis that it is equally likely \n",
    "that a randomly selected value from one sample will be less than or greater than a\n",
    "randomly selected value from a second sample.\n",
    "\n",
    "Null Hypothesis: Populations DO HAVE the same distribution\n",
    "\"\"\"\n",
    "\n",
    "# Perform the Mann-Whitney Test\n",
    "u_Statistic, p_Value = stats.mannwhitneyu(sport, trad)\n",
    "print(\"MANN-WHITNEY U-TEST RESULTS\")\n",
    "print(\"~~~~~~~~~~~~~~~~~~~~~~~~~~~\")\n",
    "print(\"The U-Stat for MW-Test is {:0.3f}\".format(u_Statistic))\n",
    "print(\"The P-Value for MW-Test is {:0.3f}\".format(p_Value))"
   ]
  }
 ],
 "metadata": {
  "kernelspec": {
   "display_name": "Python 3",
   "language": "python",
   "name": "python3"
  },
  "language_info": {
   "codemirror_mode": {
    "name": "ipython",
    "version": 3
   },
   "file_extension": ".py",
   "mimetype": "text/x-python",
   "name": "python",
   "nbconvert_exporter": "python",
   "pygments_lexer": "ipython3",
   "version": "3.7.1"
  }
 },
 "nbformat": 4,
 "nbformat_minor": 2
}
