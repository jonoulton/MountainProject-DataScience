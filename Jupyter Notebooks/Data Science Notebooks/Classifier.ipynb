{
 "cells": [
  {
   "cell_type": "markdown",
   "metadata": {},
   "source": [
    "# Import Modules"
   ]
  },
  {
   "cell_type": "code",
   "execution_count": 1,
   "metadata": {},
   "outputs": [],
   "source": [
    "import pandas as pd\n",
    "import numpy as np\n",
    "import matplotlib.pyplot as plt\n",
    "%run mpFunctions.py"
   ]
  },
  {
   "cell_type": "markdown",
   "metadata": {},
   "source": [
    "# Import the datasets"
   ]
  },
  {
   "cell_type": "code",
   "execution_count": 2,
   "metadata": {},
   "outputs": [],
   "source": [
    "peopleFilepath = './Data/pickledPeople.pkl'\n",
    "voteFilepath = './Data/pickledVotes_unpacked.pkl'\n",
    "routeFilepath = './Data/pickledRoutes_unpacked.pkl'\n",
    "\n",
    "people = pd.read_pickle(peopleFilepath)\n",
    "votes = pd.read_pickle(voteFilepath)\n",
    "routes = pd.read_pickle(routeFilepath)"
   ]
  },
  {
   "cell_type": "markdown",
   "metadata": {},
   "source": [
    "## Function to find common people for an area"
   ]
  },
  {
   "cell_type": "code",
   "execution_count": 3,
   "metadata": {},
   "outputs": [],
   "source": [
    "# Function to find all common people between N most-popular routes\n",
    "def findCommonPeople(areaUrl, breadcrumbTier, nRoutes=10, routes=routes, people=people):\n",
    "    areaRoutes = routes.loc[routes[breadcrumbTier]==areaUrl]\n",
    "    areaRoutes = areaRoutes.sort_values('numQualityVotes', ascending=False)\n",
    "    areaRoutes = areaRoutes[:nRoutes]\n",
    "    \n",
    "    subPeople = set([])\n",
    "    \n",
    "    # Filter the people dataset to only include those with at least nRoutes starRatings\n",
    "    people = people.loc[people['numStarRatings']>=nRoutes*5]\n",
    "            \n",
    "    for i in range(len(areaRoutes)):\n",
    "        tempSet=[]\n",
    "        print(\"Parsing peopleDF for route\", i+1, \"of\", nRoutes)\n",
    "        for j in range(len(people)):\n",
    "            if areaRoutes.index[i] in people.iloc[j]['starRatings']:\n",
    "                tempSet.append(people.index[j])\n",
    "                print(j/len(people), end='\\r')        \n",
    "        if i==0:\n",
    "            subPeople=set(tempSet)\n",
    "        else:\n",
    "            subPeople = subPeople.intersection(set(tempSet))\n",
    "            \n",
    "    print(len(subPeople),\"have climbed the\", nRoutes, \"most-rated climbs at\", areaUrl) \n",
    "\n",
    "    return subPeople\n",
    "    "
   ]
  },
  {
   "cell_type": "markdown",
   "metadata": {},
   "source": [
    "## Isolate the People and Routes to be used for classification"
   ]
  },
  {
   "cell_type": "code",
   "execution_count": 54,
   "metadata": {},
   "outputs": [
    {
     "name": "stdout",
     "output_type": "stream",
     "text": [
      "Parsing peopleDF for route 1 of 10\n",
      "Parsing peopleDF for route 2 of 10\n",
      "Parsing peopleDF for route 3 of 10\n",
      "Parsing peopleDF for route 4 of 10\n",
      "Parsing peopleDF for route 5 of 10\n",
      "Parsing peopleDF for route 6 of 10\n",
      "Parsing peopleDF for route 7 of 10\n",
      "Parsing peopleDF for route 8 of 10\n",
      "Parsing peopleDF for route 9 of 10\n",
      "Parsing peopleDF for route 10 of 10\n",
      "95 have climbed the 10 most-rated climbs at https://www.mountainproject.com/area/105744246/eldorado-canyon-sp\n"
     ]
    }
   ],
   "source": [
    "# Isolate the People\n",
    "eldoUrl = 'https://www.mountainproject.com/area/105744246/eldorado-canyon-sp'\n",
    "subpeople = findCommonPeople(eldoUrl, 'bc3')\n",
    "\n",
    "# Isolate the Routes\n",
    "eldo = routes.loc[routes['bc3']=='https://www.mountainproject.com/area/105744246/eldorado-canyon-sp']\n",
    "eldo = eldo.sort_values(by='numQualityVotes', ascending=False)\n",
    "eldo = eldo[:10]"
   ]
  },
  {
   "cell_type": "markdown",
   "metadata": {},
   "source": [
    "## Separate People into Training and Testing datasets"
   ]
  },
  {
   "cell_type": "code",
   "execution_count": 138,
   "metadata": {},
   "outputs": [],
   "source": [
    "# Make the training dataset\n",
    "train = people.loc[subpeople[0]]\n",
    "for i in range(1, int(len(subpeople)/2)):\n",
    "    train = pd.concat([train, people.loc[subpeople[i]]], axis=1)\n",
    "train = train.transpose()\n",
    "\n",
    "# Make the test dataset\n",
    "test = people.loc[subpeople[int(len(subpeople)/2)]]\n",
    "for i in range(int(len(subpeople)/2)+1, len(subpeople)):\n",
    "    test = pd.concat([test, people.loc[subpeople[i]]], axis=1)\n",
    "test = test.transpose()\n",
    "\n",
    "# All together, just in case it is needed\n",
    "total = pd.concat([test, train])"
   ]
  },
  {
   "cell_type": "markdown",
   "metadata": {},
   "source": [
    "## Create an array of starValues"
   ]
  },
  {
   "cell_type": "code",
   "execution_count": 186,
   "metadata": {},
   "outputs": [
    {
     "name": "stdout",
     "output_type": "stream",
     "text": [
      "https://www.mountainproject.com/route/105748490/the-b [3 4 3 4 3 3 4 4 4 3 4 4 3 4 4 3 4 3 3 4 3 3 4 4 2 3 3 4 4 4]\n",
      "https://www.mountainproject.com/route/105750106/rewri [4 3 4 4 4 4 3 4 4 4 4 4 3 4 4 2 4 3 4 4 4 3 4 4 3 4 3 4 3 4]\n",
      "https://www.mountainproject.com/route/105748657/the-y [4 3 4 4 4 4 4 4 4 3 4 3 4 3 4 4 4 4 4 3 4 3 3 4 4 4 3 3 4 4]\n",
      "https://www.mountainproject.com/route/105748361/wind- [2 2 3 3 4 4 3 4 3 3 3 3 3 4 4 3 3 3 3 3 2 3 3 3 3 3 3 3 4 3]\n",
      "https://www.mountainproject.com/route/105748391/calyp [2 3 2 3 3 3 3 4 2 3 3 2 3 3 2 2 3 3 2 3 3 2 3 4 2 3 3 4 3 3]\n",
      "https://www.mountainproject.com/route/105749890/werk- [4 3 3 4 4 3 3 3 4 3 4 3 3 2 4 2 3 3 3 4 3 2 4 3 3 3 3 4 3 4]\n",
      "https://www.mountainproject.com/route/105748774/ruper [4 3 4 4 4 3 3 4 4 4 4 3 4 4 4 3 4 4 3 4 3 4 3 3 3 4 4 4 4 2]\n",
      "https://www.mountainproject.com/route/105748639/blind [4 3 4 4 4 3 3 4 4 4 3 3 3 3 4 2 4 3 3 4 3 3 4 3 3 4 4 4 4 4]\n",
      "https://www.mountainproject.com/route/105748924/long- [3 3 3 4 4 4 4 4 4 3 3 4 3 4 4 2 3 4 3 3 4 2 3 3 4 3 3 4 4 3]\n",
      "https://www.mountainproject.com/route/105751960/gambi [4 3 3 4 4 3 3 3 3 4 4 4 3 3 4 2 4 3 3 3 3 3 3 3 3 4 3 4 4 3]\n"
     ]
    }
   ],
   "source": [
    "npTrain = np.zeros(shape=(10, len(train)), dtype=int)\n",
    "for i in range(len(eldo)):\n",
    "    for j in range(len(train)):\n",
    "        npTrain[i][j] = train.iloc[j]['starRatings'][eldo.index[i]]\n",
    "        \n",
    "# Print, for demonstration\n",
    "for i in range(len(npTrain)):\n",
    "    print(eldo.index[i][:53], npTrain[i][0:30])"
   ]
  },
  {
   "cell_type": "markdown",
   "metadata": {},
   "source": [
    "***\n",
    "### Visualization to see general star distribution"
   ]
  },
  {
   "cell_type": "code",
   "execution_count": 185,
   "metadata": {},
   "outputs": [
    {
     "name": "stdout",
     "output_type": "stream",
     "text": [
      "\n",
      "0 : 0\n",
      "1 : 0\n",
      "2 : 67\n",
      "3 : 419\n",
      "4 : 464\n",
      "\n",
      "User 0: 4 4 3 4 2 4 4 3 4 4 \n",
      "User 1: 4 4 4 3 4 3 4 4 3 4 \n",
      "User 2: 4 3 4 3 3 4 3 3 3 3 \n",
      "User 3: 3 4 4 3 3 3 4 4 2 4 \n",
      "User 4: 4 4 4 4 3 3 3 4 4 4 \n",
      "User 5: 3 3 4 2 2 3 2 2 2 3 \n",
      "User 6: 4 4 4 3 3 4 4 4 4 2 \n",
      "User 7: 3 3 4 4 2 3 3 3 3 4 \n",
      "User 8: 2 3 4 4 3 4 4 3 3 4 \n",
      "User 9: 3 3 2 3 2 3 3 2 2 3 \n",
      "User 10: 4 3 3 4 3 4 4 4 3 3 \n",
      "User 11: 4 3 4 4 3 3 4 4 4 4 \n",
      "User 12: 4 3 4 4 2 3 4 3 3 3 \n",
      "User 13: 3 4 3 3 3 3 4 4 3 4 \n",
      "User 14: 4 4 4 4 4 4 4 4 4 4 \n",
      "User 15: 3 3 4 3 3 3 4 4 3 3 \n",
      "User 16: 2 4 4 3 3 3 4 3 4 2 \n",
      "User 17: 4 4 4 4 3 3 4 4 3 3 \n",
      "User 18: 4 4 4 3 3 4 4 4 3 3 \n",
      "User 19: 3 4 4 2 3 4 4 4 4 4 \n",
      "User 20: 2 4 4 3 3 2 4 4 4 3 \n",
      "User 21: 4 4 4 4 3 3 4 4 3 4 \n",
      "User 22: 4 3 4 4 3 3 4 3 3 2 \n",
      "User 23: 3 3 4 2 3 3 4 4 3 4 \n",
      "User 24: 4 3 4 3 3 3 4 4 3 3 \n",
      "User 25: 3 3 4 2 3 3 4 3 3 3 \n",
      "User 26: 3 4 4 3 3 4 4 4 4 4 \n",
      "User 27: 4 4 4 3 3 4 4 4 4 4 \n",
      "User 28: 4 4 2 3 3 4 4 3 3 4 \n",
      "User 29: 4 4 4 4 3 3 4 4 4 4 \n",
      "User 30: 4 3 4 4 4 4 4 4 4 4 \n",
      "User 31: 4 4 4 3 3 3 3 3 3 3 \n",
      "User 32: 4 4 4 3 3 3 4 3 4 3 \n",
      "User 33: 3 3 4 3 3 3 3 3 3 3 \n",
      "User 34: 3 4 4 3 3 4 4 4 4 4 \n",
      "User 35: 4 4 4 2 2 3 4 3 2 3 \n",
      "User 36: 4 4 4 3 2 4 4 4 4 4 \n",
      "User 37: 3 4 3 2 3 3 4 4 2 3 \n",
      "User 38: 4 4 4 4 4 3 4 4 4 4 \n",
      "User 39: 4 4 4 3 4 4 4 3 4 4 \n",
      "User 40: 4 3 4 2 3 3 4 2 2 3 \n",
      "User 41: 4 4 4 3 3 4 4 4 4 4 \n",
      "User 42: 4 3 2 4 3 3 3 4 4 3 \n",
      "User 43: 2 3 3 2 3 3 4 3 4 4 \n",
      "User 44: 4 4 4 3 4 3 4 4 2 4 \n",
      "User 45: 4 3 4 3 2 3 4 3 4 3 \n",
      "User 46: 4 4 4 3 3 4 3 4 3 4 \n",
      "User 47: 4 3 4 4 3 4 4 4 4 3 \n",
      "User 48: 3 4 4 2 2 4 4 4 3 4 \n",
      "User 49: 4 3 3 2 3 3 3 3 3 3 \n",
      "User 50: 3 4 4 3 2 3 4 4 3 3 \n",
      "User 51: 4 4 4 3 3 4 4 4 4 4 \n",
      "User 52: 3 4 4 4 3 4 4 4 4 4 \n",
      "User 53: 3 4 4 4 3 3 3 3 4 3 \n",
      "User 54: 4 3 4 3 3 3 3 3 4 3 \n",
      "User 55: 4 4 4 4 4 3 4 4 4 3 \n",
      "User 56: 4 4 4 3 2 4 4 4 4 3 \n",
      "User 57: 3 4 3 3 3 3 4 4 3 4 \n",
      "User 58: 4 4 4 3 3 4 4 3 3 4 \n",
      "User 59: 4 4 3 3 2 3 3 3 4 4 \n",
      "User 60: 3 3 4 3 3 3 4 3 3 3 \n",
      "User 61: 4 4 3 4 3 2 4 3 4 3 \n",
      "User 62: 4 4 4 4 2 4 4 4 4 4 \n",
      "User 63: 3 2 4 3 2 2 3 2 2 2 \n",
      "User 64: 4 4 4 3 3 3 4 4 3 4 \n",
      "User 65: 3 3 4 3 3 3 4 3 4 3 \n",
      "User 66: 3 4 4 3 2 3 3 3 3 3 \n",
      "User 67: 4 4 3 3 3 4 4 4 3 3 \n",
      "User 68: 3 4 4 2 3 3 3 3 4 3 \n",
      "User 69: 3 3 3 3 2 2 4 3 2 3 \n",
      "User 70: 4 4 3 3 3 4 3 4 3 3 \n",
      "User 71: 4 4 4 3 4 3 3 3 3 3 \n",
      "User 72: 2 3 4 3 2 3 3 3 4 3 \n",
      "User 73: 3 4 4 3 3 3 4 4 3 4 \n",
      "User 74: 3 3 3 3 3 3 4 4 3 3 \n",
      "User 75: 4 4 3 3 4 4 4 4 4 4 \n",
      "User 76: 4 3 4 4 3 3 4 4 4 4 \n",
      "User 77: 4 4 4 3 3 4 2 4 3 3 \n",
      "User 78: 3 4 3 4 3 3 3 4 3 4 \n",
      "User 79: 3 4 4 3 3 4 4 3 3 3 \n",
      "User 80: 3 4 4 3 3 4 4 4 3 4 \n",
      "User 81: 4 4 4 4 4 4 4 4 3 4 \n",
      "User 82: 4 4 3 3 3 3 4 4 3 3 \n",
      "User 83: 4 3 4 3 4 3 4 3 4 4 \n",
      "User 84: 4 3 4 3 3 3 3 4 3 4 \n",
      "User 85: 4 4 3 3 3 3 3 3 3 3 \n",
      "User 86: 3 4 3 3 4 4 3 4 3 4 \n",
      "User 87: 4 3 3 4 3 3 3 3 3 4 \n",
      "User 88: 3 3 3 3 2 3 2 3 3 3 \n",
      "User 89: 3 3 4 4 4 4 4 4 4 4 \n",
      "User 90: 3 4 4 3 2 3 4 4 4 4 \n",
      "User 91: 3 4 4 4 3 3 3 4 4 4 \n",
      "User 92: 3 3 4 3 3 3 4 3 3 3 \n",
      "User 93: 3 3 4 2 3 3 3 3 2 3 \n",
      "User 94: 3 4 4 2 2 3 3 4 3 3 \n"
     ]
    }
   ],
   "source": [
    "# Visualization to see general star distribution\n",
    "d = {0:0, 1:0, 2:0, 3:0, 4:0}\n",
    "r = list(eldo.index)\n",
    "for i in range(len(total)):\n",
    "    for j in range(len(eldo)):\n",
    "        d[total.iloc[i]['starRatings'][r[j]]] = d[total.iloc[i]['starRatings'][r[j]]]+1\n",
    "    \n",
    "print()\n",
    "for i in d:\n",
    "    print(i, \":\", d[i])\n",
    "print()\n",
    "    \n",
    "for i in range(len(total)):\n",
    "    print(\"User\", i, end=': ')\n",
    "    for j in range(len(eldo)):\n",
    "        print(total.iloc[i]['starRatings'][r[j]], end=' ')\n",
    "    print()\n"
   ]
  },
  {
   "cell_type": "markdown",
   "metadata": {},
   "source": [
    "# Looking for a better area"
   ]
  },
  {
   "cell_type": "code",
   "execution_count": 20,
   "metadata": {
    "scrolled": true
   },
   "outputs": [
    {
     "name": "stdout",
     "output_type": "stream",
     "text": [
      "Parsing peopleDF for route 1 of 5\n",
      "Parsing peopleDF for route 2 of 5\n",
      "Parsing peopleDF for route 3 of 5\n",
      "Parsing peopleDF for route 4 of 5\n",
      "Parsing peopleDF for route 5 of 5\n",
      "43 have climbed the 5 most-rated climbs at https://www.mountainproject.com/area/105745528/avalon\n"
     ]
    },
    {
     "data": {
      "text/plain": [
       "2.63"
      ]
     },
     "execution_count": 20,
     "metadata": {},
     "output_type": "execute_result"
    }
   ],
   "source": [
    "# Isolate the People\n",
    "avalonUrl = 'https://www.mountainproject.com/area/105745528/avalon'\n",
    "subpeople = findCommonPeople(avalonUrl, 'bc4', 5)\n",
    "\n",
    "# Isolate the Routes\n",
    "avalon = routes.loc[routes['bc4']=='https://www.mountainproject.com/area/105745528/avalon']\n",
    "avalon = avalon.sort_values(by='numQualityVotes', ascending=False)\n",
    "avalon = avalon[:10]\n",
    "\n",
    "# Report the average rating of the climb\n",
    "findAvgRating(avalon)"
   ]
  },
  {
   "cell_type": "code",
   "execution_count": null,
   "metadata": {},
   "outputs": [],
   "source": []
  }
 ],
 "metadata": {
  "kernelspec": {
   "display_name": "Python 3",
   "language": "python",
   "name": "python3"
  },
  "language_info": {
   "codemirror_mode": {
    "name": "ipython",
    "version": 3
   },
   "file_extension": ".py",
   "mimetype": "text/x-python",
   "name": "python",
   "nbconvert_exporter": "python",
   "pygments_lexer": "ipython3",
   "version": "3.7.1"
  }
 },
 "nbformat": 4,
 "nbformat_minor": 2
}
