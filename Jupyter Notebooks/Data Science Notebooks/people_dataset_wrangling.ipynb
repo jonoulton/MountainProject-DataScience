{
 "cells": [
  {
   "cell_type": "markdown",
   "metadata": {},
   "source": [
    "# Wrangling with the people dataframe"
   ]
  },
  {
   "cell_type": "code",
   "execution_count": 1,
   "metadata": {},
   "outputs": [],
   "source": [
    "import pandas as pd\n",
    "import numpy as np\n",
    "import time"
   ]
  },
  {
   "cell_type": "markdown",
   "metadata": {},
   "source": [
    "# Unpickle the people/votes dataframes"
   ]
  },
  {
   "cell_type": "code",
   "execution_count": 2,
   "metadata": {},
   "outputs": [],
   "source": [
    "peopleFilepath = './Data/pickledPeople'\n",
    "voteFilepath = './Data/pickledVotes_unpacked'\n",
    "routeFilepath = './Data/pickledRoutes_unpacked'\n",
    "\n",
    "people = pd.read_pickle(peopleFilepath)\n",
    "votes = pd.read_pickle(voteFilepath)\n",
    "routes = pd.read_pickle(routeFilepath)"
   ]
  },
  {
   "cell_type": "code",
   "execution_count": 3,
   "metadata": {},
   "outputs": [
    {
     "data": {
      "text/html": [
       "<div>\n",
       "<style scoped>\n",
       "    .dataframe tbody tr th:only-of-type {\n",
       "        vertical-align: middle;\n",
       "    }\n",
       "\n",
       "    .dataframe tbody tr th {\n",
       "        vertical-align: top;\n",
       "    }\n",
       "\n",
       "    .dataframe thead th {\n",
       "        text-align: right;\n",
       "    }\n",
       "</style>\n",
       "<table border=\"1\" class=\"dataframe\">\n",
       "  <thead>\n",
       "    <tr style=\"text-align: right;\">\n",
       "      <th></th>\n",
       "      <th>name</th>\n",
       "      <th>faInfo</th>\n",
       "      <th>commentCount</th>\n",
       "      <th>photoCount</th>\n",
       "      <th>latitude</th>\n",
       "      <th>longitude</th>\n",
       "      <th>diffRating</th>\n",
       "      <th>avgQualityRating</th>\n",
       "      <th>numQualityVotes</th>\n",
       "      <th>desc_aggregateData</th>\n",
       "      <th>...</th>\n",
       "      <th>bc1</th>\n",
       "      <th>bc2</th>\n",
       "      <th>bc3</th>\n",
       "      <th>bc4</th>\n",
       "      <th>bc5</th>\n",
       "      <th>bc6</th>\n",
       "      <th>bc7</th>\n",
       "      <th>bc8</th>\n",
       "      <th>bc9</th>\n",
       "      <th>bc10</th>\n",
       "    </tr>\n",
       "  </thead>\n",
       "  <tbody>\n",
       "    <tr>\n",
       "      <th>https://www.mountainproject.com/route/105714687/bridalveil-falls-right-side</th>\n",
       "      <td>Bridalveil Falls Right Side</td>\n",
       "      <td>unknown</td>\n",
       "      <td>1</td>\n",
       "      <td>1</td>\n",
       "      <td>44.457798</td>\n",
       "      <td>-103.858901</td>\n",
       "      <td>5.9</td>\n",
       "      <td>3.2</td>\n",
       "      <td>5.0</td>\n",
       "      <td>WI2+ Trad, Ice</td>\n",
       "      <td>...</td>\n",
       "      <td>https://www.mountainproject.com/area/105708963...</td>\n",
       "      <td>https://www.mountainproject.com/area/105714282...</td>\n",
       "      <td>https://www.mountainproject.com/area/105714675...</td>\n",
       "      <td></td>\n",
       "      <td></td>\n",
       "      <td></td>\n",
       "      <td></td>\n",
       "      <td></td>\n",
       "      <td></td>\n",
       "      <td></td>\n",
       "    </tr>\n",
       "    <tr>\n",
       "      <th>https://www.mountainproject.com/route/105714691/honey-bear-main-flow</th>\n",
       "      <td>Honey Bear Main Flow</td>\n",
       "      <td>Paul Piana, 1978/79</td>\n",
       "      <td>1</td>\n",
       "      <td>4</td>\n",
       "      <td>43.869700</td>\n",
       "      <td>-103.541302</td>\n",
       "      <td>None</td>\n",
       "      <td>2.2</td>\n",
       "      <td>6.0</td>\n",
       "      <td>WI3 Ice</td>\n",
       "      <td>...</td>\n",
       "      <td>https://www.mountainproject.com/area/105708963...</td>\n",
       "      <td>https://www.mountainproject.com/area/106058091...</td>\n",
       "      <td>https://www.mountainproject.com/area/105714306...</td>\n",
       "      <td>https://www.mountainproject.com/area/105714678...</td>\n",
       "      <td></td>\n",
       "      <td></td>\n",
       "      <td></td>\n",
       "      <td></td>\n",
       "      <td></td>\n",
       "      <td></td>\n",
       "    </tr>\n",
       "    <tr>\n",
       "      <th>https://www.mountainproject.com/route/105714695/terminator-pillar</th>\n",
       "      <td>Terminator Pillar</td>\n",
       "      <td>unknown</td>\n",
       "      <td>0</td>\n",
       "      <td>2</td>\n",
       "      <td>44.457798</td>\n",
       "      <td>-103.858901</td>\n",
       "      <td>5.9</td>\n",
       "      <td>3.7</td>\n",
       "      <td>6.0</td>\n",
       "      <td>WI4 Trad, Ice</td>\n",
       "      <td>...</td>\n",
       "      <td>https://www.mountainproject.com/area/105708963...</td>\n",
       "      <td>https://www.mountainproject.com/area/105714282...</td>\n",
       "      <td>https://www.mountainproject.com/area/105714681...</td>\n",
       "      <td></td>\n",
       "      <td></td>\n",
       "      <td></td>\n",
       "      <td></td>\n",
       "      <td></td>\n",
       "      <td></td>\n",
       "      <td></td>\n",
       "    </tr>\n",
       "    <tr>\n",
       "      <th>https://www.mountainproject.com/route/105714699/11th-hour-center</th>\n",
       "      <td>11th Hour Center</td>\n",
       "      <td>unknown</td>\n",
       "      <td>0</td>\n",
       "      <td>3</td>\n",
       "      <td>44.457798</td>\n",
       "      <td>-103.858901</td>\n",
       "      <td>5.10</td>\n",
       "      <td>2.3</td>\n",
       "      <td>9.0</td>\n",
       "      <td>WI3 Trad, TR, Ice</td>\n",
       "      <td>...</td>\n",
       "      <td>https://www.mountainproject.com/area/105708963...</td>\n",
       "      <td>https://www.mountainproject.com/area/105714282...</td>\n",
       "      <td>https://www.mountainproject.com/area/105714684...</td>\n",
       "      <td></td>\n",
       "      <td></td>\n",
       "      <td></td>\n",
       "      <td></td>\n",
       "      <td></td>\n",
       "      <td></td>\n",
       "      <td></td>\n",
       "    </tr>\n",
       "    <tr>\n",
       "      <th>https://www.mountainproject.com/route/105714703/gorillas-in-the-schist</th>\n",
       "      <td>Gorillas in the Schist</td>\n",
       "      <td>John Walker, Dawn Glanc - Nov. 7, 2000</td>\n",
       "      <td>12</td>\n",
       "      <td>0</td>\n",
       "      <td>44.457798</td>\n",
       "      <td>-103.858901</td>\n",
       "      <td>5.9</td>\n",
       "      <td>1.5</td>\n",
       "      <td>2.0</td>\n",
       "      <td>5.9 WI3 M5 X Trad, Mixed, Ice</td>\n",
       "      <td>...</td>\n",
       "      <td>https://www.mountainproject.com/area/105708963...</td>\n",
       "      <td>https://www.mountainproject.com/area/105714282...</td>\n",
       "      <td>https://www.mountainproject.com/area/105714675...</td>\n",
       "      <td></td>\n",
       "      <td></td>\n",
       "      <td></td>\n",
       "      <td></td>\n",
       "      <td></td>\n",
       "      <td></td>\n",
       "      <td></td>\n",
       "    </tr>\n",
       "  </tbody>\n",
       "</table>\n",
       "<p>5 rows × 37 columns</p>\n",
       "</div>"
      ],
      "text/plain": [
       "                                                                           name  \\\n",
       "https://www.mountainproject.com/route/105714687...  Bridalveil Falls Right Side   \n",
       "https://www.mountainproject.com/route/105714691...         Honey Bear Main Flow   \n",
       "https://www.mountainproject.com/route/105714695...            Terminator Pillar   \n",
       "https://www.mountainproject.com/route/105714699...             11th Hour Center   \n",
       "https://www.mountainproject.com/route/105714703...       Gorillas in the Schist   \n",
       "\n",
       "                                                                                    faInfo  \\\n",
       "https://www.mountainproject.com/route/105714687...                                 unknown   \n",
       "https://www.mountainproject.com/route/105714691...                     Paul Piana, 1978/79   \n",
       "https://www.mountainproject.com/route/105714695...                                 unknown   \n",
       "https://www.mountainproject.com/route/105714699...                                 unknown   \n",
       "https://www.mountainproject.com/route/105714703...  John Walker, Dawn Glanc - Nov. 7, 2000   \n",
       "\n",
       "                                                   commentCount  photoCount  \\\n",
       "https://www.mountainproject.com/route/105714687...            1           1   \n",
       "https://www.mountainproject.com/route/105714691...            1           4   \n",
       "https://www.mountainproject.com/route/105714695...            0           2   \n",
       "https://www.mountainproject.com/route/105714699...            0           3   \n",
       "https://www.mountainproject.com/route/105714703...           12           0   \n",
       "\n",
       "                                                     latitude   longitude  \\\n",
       "https://www.mountainproject.com/route/105714687...  44.457798 -103.858901   \n",
       "https://www.mountainproject.com/route/105714691...  43.869700 -103.541302   \n",
       "https://www.mountainproject.com/route/105714695...  44.457798 -103.858901   \n",
       "https://www.mountainproject.com/route/105714699...  44.457798 -103.858901   \n",
       "https://www.mountainproject.com/route/105714703...  44.457798 -103.858901   \n",
       "\n",
       "                                                   diffRating  \\\n",
       "https://www.mountainproject.com/route/105714687...        5.9   \n",
       "https://www.mountainproject.com/route/105714691...       None   \n",
       "https://www.mountainproject.com/route/105714695...        5.9   \n",
       "https://www.mountainproject.com/route/105714699...       5.10   \n",
       "https://www.mountainproject.com/route/105714703...        5.9   \n",
       "\n",
       "                                                    avgQualityRating  \\\n",
       "https://www.mountainproject.com/route/105714687...               3.2   \n",
       "https://www.mountainproject.com/route/105714691...               2.2   \n",
       "https://www.mountainproject.com/route/105714695...               3.7   \n",
       "https://www.mountainproject.com/route/105714699...               2.3   \n",
       "https://www.mountainproject.com/route/105714703...               1.5   \n",
       "\n",
       "                                                    numQualityVotes  \\\n",
       "https://www.mountainproject.com/route/105714687...              5.0   \n",
       "https://www.mountainproject.com/route/105714691...              6.0   \n",
       "https://www.mountainproject.com/route/105714695...              6.0   \n",
       "https://www.mountainproject.com/route/105714699...              9.0   \n",
       "https://www.mountainproject.com/route/105714703...              2.0   \n",
       "\n",
       "                                                               desc_aggregateData  \\\n",
       "https://www.mountainproject.com/route/105714687...                 WI2+ Trad, Ice   \n",
       "https://www.mountainproject.com/route/105714691...                        WI3 Ice   \n",
       "https://www.mountainproject.com/route/105714695...                  WI4 Trad, Ice   \n",
       "https://www.mountainproject.com/route/105714699...              WI3 Trad, TR, Ice   \n",
       "https://www.mountainproject.com/route/105714703...  5.9 WI3 M5 X Trad, Mixed, Ice   \n",
       "\n",
       "                                                   ...   \\\n",
       "https://www.mountainproject.com/route/105714687... ...    \n",
       "https://www.mountainproject.com/route/105714691... ...    \n",
       "https://www.mountainproject.com/route/105714695... ...    \n",
       "https://www.mountainproject.com/route/105714699... ...    \n",
       "https://www.mountainproject.com/route/105714703... ...    \n",
       "\n",
       "                                                                                                  bc1  \\\n",
       "https://www.mountainproject.com/route/105714687...  https://www.mountainproject.com/area/105708963...   \n",
       "https://www.mountainproject.com/route/105714691...  https://www.mountainproject.com/area/105708963...   \n",
       "https://www.mountainproject.com/route/105714695...  https://www.mountainproject.com/area/105708963...   \n",
       "https://www.mountainproject.com/route/105714699...  https://www.mountainproject.com/area/105708963...   \n",
       "https://www.mountainproject.com/route/105714703...  https://www.mountainproject.com/area/105708963...   \n",
       "\n",
       "                                                                                                  bc2  \\\n",
       "https://www.mountainproject.com/route/105714687...  https://www.mountainproject.com/area/105714282...   \n",
       "https://www.mountainproject.com/route/105714691...  https://www.mountainproject.com/area/106058091...   \n",
       "https://www.mountainproject.com/route/105714695...  https://www.mountainproject.com/area/105714282...   \n",
       "https://www.mountainproject.com/route/105714699...  https://www.mountainproject.com/area/105714282...   \n",
       "https://www.mountainproject.com/route/105714703...  https://www.mountainproject.com/area/105714282...   \n",
       "\n",
       "                                                                                                  bc3  \\\n",
       "https://www.mountainproject.com/route/105714687...  https://www.mountainproject.com/area/105714675...   \n",
       "https://www.mountainproject.com/route/105714691...  https://www.mountainproject.com/area/105714306...   \n",
       "https://www.mountainproject.com/route/105714695...  https://www.mountainproject.com/area/105714681...   \n",
       "https://www.mountainproject.com/route/105714699...  https://www.mountainproject.com/area/105714684...   \n",
       "https://www.mountainproject.com/route/105714703...  https://www.mountainproject.com/area/105714675...   \n",
       "\n",
       "                                                                                                  bc4  \\\n",
       "https://www.mountainproject.com/route/105714687...                                                      \n",
       "https://www.mountainproject.com/route/105714691...  https://www.mountainproject.com/area/105714678...   \n",
       "https://www.mountainproject.com/route/105714695...                                                      \n",
       "https://www.mountainproject.com/route/105714699...                                                      \n",
       "https://www.mountainproject.com/route/105714703...                                                      \n",
       "\n",
       "                                                    bc5  bc6  bc7  bc8 bc9  \\\n",
       "https://www.mountainproject.com/route/105714687...                           \n",
       "https://www.mountainproject.com/route/105714691...                           \n",
       "https://www.mountainproject.com/route/105714695...                           \n",
       "https://www.mountainproject.com/route/105714699...                           \n",
       "https://www.mountainproject.com/route/105714703...                           \n",
       "\n",
       "                                                   bc10  \n",
       "https://www.mountainproject.com/route/105714687...       \n",
       "https://www.mountainproject.com/route/105714691...       \n",
       "https://www.mountainproject.com/route/105714695...       \n",
       "https://www.mountainproject.com/route/105714699...       \n",
       "https://www.mountainproject.com/route/105714703...       \n",
       "\n",
       "[5 rows x 37 columns]"
      ]
     },
     "execution_count": 3,
     "metadata": {},
     "output_type": "execute_result"
    }
   ],
   "source": [
    "routes.head(5)"
   ]
  },
  {
   "cell_type": "code",
   "execution_count": 4,
   "metadata": {},
   "outputs": [],
   "source": [
    "# Sort people by the number of routes that they have given star ratings to\n",
    "people = people.sort_values(by='numStarRatings', ascending=False)"
   ]
  },
  {
   "cell_type": "markdown",
   "metadata": {},
   "source": [
    "# Finding People with Common Routes"
   ]
  },
  {
   "cell_type": "code",
   "execution_count": null,
   "metadata": {},
   "outputs": [],
   "source": [
    "for i in people.iloc[0:50].index:\n",
    "    print(i)"
   ]
  },
  {
   "cell_type": "code",
   "execution_count": 5,
   "metadata": {},
   "outputs": [
    {
     "name": "stdout",
     "output_type": "stream",
     "text": [
      "Common Routes: 188\n"
     ]
    }
   ],
   "source": [
    "testGroup=[]\n",
    "testGroup.append('https://www.mountainproject.com/user/10232/tony-b')\n",
    "testGroup.append('https://www.mountainproject.com/user/10185/guy-h')\n",
    "testGroup.append('https://www.mountainproject.com/user/106087077/mark-roth')\n",
    "testGroup.append('https://www.mountainproject.com/user/105936209/khoa')\n",
    "# testGroup.append('https://www.mountainproject.com/user/14537/slim')\n",
    "\n",
    "# testGroup.append('https://www.mountainproject.com/user/13115/ken-duncan')\n",
    "testGroup.append('https://www.mountainproject.com/user/11287/jay-eggleston')\n",
    "# testGroup.append('https://www.mountainproject.com/user/13658/rob-bauer')       \n",
    "testGroup.append('https://www.mountainproject.com/user/105890911/greg-davis')    \n",
    "# testGroup.append('https://www.mountainproject.com/user/106192059/julius-beres')   # 10\n",
    "# testGroup.append('https://www.mountainproject.com/user/106554608/andy-hansen')\n",
    "# testGroup.append('https://www.mountainproject.com/user/105787348/dave-clawson')\n",
    "# testGroup.append('https://www.mountainproject.com/user/10168/josh-janes')\n",
    "# testGroup.append('https://www.mountainproject.com/user/14213/steven-lucarelli')\n",
    "\n",
    "lst = set(people.loc[testGroup[0]]['starRatings'])\n",
    "for i in range(len(testGroup)):\n",
    "    lst = lst.intersection(set(people.loc[testGroup[i]]['starRatings']))\n",
    "    \n",
    "print(\"Common Routes:\",len(lst))\n",
    "# print()\n",
    "# for i in lst:\n",
    "#     print(i)"
   ]
  },
  {
   "cell_type": "code",
   "execution_count": 6,
   "metadata": {},
   "outputs": [],
   "source": [
    "# Add condition to continue past current user if percent not met by certain % of currentList scanned (should speed up significantly for large similarityDecimal values)\n",
    "def find_users_with_common_routes(people, currentList, simThresh): # SimThresh is a decimal of what % of routes must match\n",
    "    # Define variables to be used during calculation\n",
    "    listLen = len(currentList)\n",
    "    currentList = list(currentList)\n",
    "    simUsers = []\n",
    "    skipThresh1 = int(listLen*(1-simThresh))+1\n",
    "    skipThresh2 = listLen*simThresh\n",
    "\n",
    "    # Limit list of people to those with enough routes\n",
    "    people = people.loc[people['numStarRatings']>=(listLen*simThresh)]\n",
    "    peopleLen = len(people)\n",
    "    \n",
    "    # Find users with simThresh proportion of common routes\n",
    "    for user in range(len(people)):\n",
    "        print(user/peopleLen, end='\\r')\n",
    "        count = 0\n",
    "        for route in range(len(currentList)):\n",
    "            if currentList[route] in people.iloc[user]['starRatings']:\n",
    "                count = count+1\n",
    "            if route == skipThresh1:\n",
    "                if count == 0:\n",
    "                    break\n",
    "        if count>=listLen*simThresh:\n",
    "            simUsers.append(people.index[user])\n",
    "            \n",
    "    return simUsers"
   ]
  },
  {
   "cell_type": "code",
   "execution_count": 30,
   "metadata": {},
   "outputs": [
    {
     "name": "stdout",
     "output_type": "stream",
     "text": [
      "0.99974709155285795666\r"
     ]
    }
   ],
   "source": [
    "similarUsers = find_users_with_common_routes(people, lst, 0.6)"
   ]
  },
  {
   "cell_type": "code",
   "execution_count": 31,
   "metadata": {},
   "outputs": [
    {
     "data": {
      "text/plain": [
       "14"
      ]
     },
     "execution_count": 31,
     "metadata": {},
     "output_type": "execute_result"
    }
   ],
   "source": [
    "len(similarUsers)"
   ]
  },
  {
   "cell_type": "code",
   "execution_count": 32,
   "metadata": {},
   "outputs": [
    {
     "data": {
      "text/plain": [
       "{'https://www.mountainproject.com/user/105795871/tombo',\n",
       " 'https://www.mountainproject.com/user/105841324/dane-casterson',\n",
       " 'https://www.mountainproject.com/user/106098789/john-a-tron',\n",
       " 'https://www.mountainproject.com/user/106192059/julius-beres',\n",
       " 'https://www.mountainproject.com/user/108386412/rick-vermeil',\n",
       " 'https://www.mountainproject.com/user/13658/rob-bauer',\n",
       " 'https://www.mountainproject.com/user/14015/nick-wilder',\n",
       " 'https://www.mountainproject.com/user/14537/slim'}"
      ]
     },
     "execution_count": 32,
     "metadata": {},
     "output_type": "execute_result"
    }
   ],
   "source": [
    "set(similarUsers)-set(testGroup)"
   ]
  },
  {
   "cell_type": "code",
   "execution_count": 77,
   "metadata": {},
   "outputs": [
    {
     "name": "stdout",
     "output_type": "stream",
     "text": [
      "Common Routes: 31\n",
      "\n",
      "https://www.mountainproject.com/route/105748639/blind-faith\n",
      "https://www.mountainproject.com/route/105749041/gonzo\n",
      "https://www.mountainproject.com/route/105758257/the-clipboard\n",
      "https://www.mountainproject.com/route/105748948/emerald-city\n",
      "https://www.mountainproject.com/route/105749890/werk-supp\n",
      "https://www.mountainproject.com/route/105750457/cosmosis\n",
      "https://www.mountainproject.com/route/105748924/long-john-wall\n",
      "https://www.mountainproject.com/route/105760950/kate-moss\n",
      "https://www.mountainproject.com/route/105748047/east-face-standard\n",
      "https://www.mountainproject.com/route/105750109/pool-of-blood\n",
      "https://www.mountainproject.com/route/105756796/over-the-hill\n",
      "https://www.mountainproject.com/route/105748951/the-unsaid\n",
      "https://www.mountainproject.com/route/105750106/rewritten\n",
      "https://www.mountainproject.com/route/105748774/ruper\n",
      "https://www.mountainproject.com/route/105760935/dead-again\n",
      "https://www.mountainproject.com/route/105749299/west-crack-aka-star-wars\n",
      "https://www.mountainproject.com/route/105748505/wrinkles-in-time\n",
      "https://www.mountainproject.com/route/105748490/the-bastille-crack\n",
      "https://www.mountainproject.com/route/105749917/positively-fourth-street\n",
      "https://www.mountainproject.com/route/105749599/handcracker-direct\n",
      "https://www.mountainproject.com/route/105749029/xanadu\n",
      "https://www.mountainproject.com/route/105748936/verschneidung-dihedral\n",
      "https://www.mountainproject.com/route/105758062/dominator\n",
      "https://www.mountainproject.com/route/105753310/breakfast-in-bed\n",
      "https://www.mountainproject.com/route/105749785/animation\n",
      "https://www.mountainproject.com/route/105761340/the-tower\n",
      "https://www.mountainproject.com/route/105760656/men-in-tights\n",
      "https://www.mountainproject.com/route/105748657/the-yellow-spur\n",
      "https://www.mountainproject.com/route/105749080/v3\n",
      "https://www.mountainproject.com/route/105749242/five-eight-crack\n",
      "https://www.mountainproject.com/route/105748945/five-ten-crack\n"
     ]
    }
   ],
   "source": [
    "testGroup=[]\n",
    "testGroup.append('https://www.mountainproject.com/user/10232/tony-b')\n",
    "testGroup.append('https://www.mountainproject.com/user/10185/guy-h')\n",
    "testGroup.append('https://www.mountainproject.com/user/106087077/mark-roth')\n",
    "testGroup.append('https://www.mountainproject.com/user/105936209/khoa')\n",
    "testGroup.append('https://www.mountainproject.com/user/11287/jay-eggleston')\n",
    "testGroup.append('https://www.mountainproject.com/user/105890911/greg-davis')\n",
    "testGroup.append('https://www.mountainproject.com/user/105795871/tombo')\n",
    "testGroup.append('https://www.mountainproject.com/user/105841324/dane-casterson')\n",
    "testGroup.append('https://www.mountainproject.com/user/106098789/john-a-tron')\n",
    "testGroup.append('https://www.mountainproject.com/user/106192059/julius-beres')\n",
    "testGroup.append('https://www.mountainproject.com/user/108386412/rick-vermeil')\n",
    "testGroup.append('https://www.mountainproject.com/user/13658/rob-bauer')\n",
    "testGroup.append('https://www.mountainproject.com/user/14015/nick-wilder')\n",
    "testGroup.append('https://www.mountainproject.com/user/14537/slim')\n",
    "\n",
    "lst = set(people.loc[similarUsers[0]]['starRatings'])\n",
    "for i in range(len(testGroup)):\n",
    "    lst = lst.intersection(set(people.loc[similarUsers[i]]['starRatings']))\n",
    "    \n",
    "print(\"Common Routes:\",len(lst))\n",
    "print()\n",
    "for i in lst:\n",
    "    print(i)"
   ]
  },
  {
   "cell_type": "code",
   "execution_count": 76,
   "metadata": {},
   "outputs": [
    {
     "data": {
      "text/plain": [
       "555"
      ]
     },
     "execution_count": 76,
     "metadata": {},
     "output_type": "execute_result"
    }
   ],
   "source": [
    "len(people.loc[people['numStarRatings']>500])"
   ]
  },
  {
   "cell_type": "markdown",
   "metadata": {},
   "source": [
    "## Group 2 of people"
   ]
  },
  {
   "cell_type": "code",
   "execution_count": 80,
   "metadata": {
    "scrolled": true
   },
   "outputs": [
    {
     "name": "stdout",
     "output_type": "stream",
     "text": [
      "Common Routes: 650\n"
     ]
    }
   ],
   "source": [
    "testGroup=[]\n",
    "testGroup.append('https://www.mountainproject.com/user/10788/c-miller')\n",
    "testGroup.append('https://www.mountainproject.com/user/105908890/euan-cameron')\n",
    "\n",
    "lst = set(people.loc[testGroup[0]]['starRatings'])\n",
    "for i in range(len(testGroup)):\n",
    "    lst = lst.intersection(set(people.loc[testGroup[i]]['starRatings']))\n",
    "    \n",
    "print(\"Common Routes:\",len(lst))\n",
    "# print()\n",
    "# for i in lst:\n",
    "#     print(i)"
   ]
  },
  {
   "cell_type": "code",
   "execution_count": 81,
   "metadata": {},
   "outputs": [
    {
     "name": "stdout",
     "output_type": "stream",
     "text": [
      "0.07754614261054309456\r"
     ]
    },
    {
     "ename": "KeyboardInterrupt",
     "evalue": "",
     "output_type": "error",
     "traceback": [
      "\u001b[0;31m---------------------------------------------------------------------------\u001b[0m",
      "\u001b[0;31mKeyboardInterrupt\u001b[0m                         Traceback (most recent call last)",
      "\u001b[0;32m<ipython-input-81-e4b1c77c5038>\u001b[0m in \u001b[0;36m<module>\u001b[0;34m\u001b[0m\n\u001b[0;32m----> 1\u001b[0;31m \u001b[0msimilarUsers2\u001b[0m \u001b[0;34m=\u001b[0m \u001b[0mfind_users_with_common_routes\u001b[0m\u001b[0;34m(\u001b[0m\u001b[0mpeople\u001b[0m\u001b[0;34m,\u001b[0m \u001b[0mlst\u001b[0m\u001b[0;34m,\u001b[0m \u001b[0;36m0.08\u001b[0m\u001b[0;34m)\u001b[0m\u001b[0;34m\u001b[0m\u001b[0;34m\u001b[0m\u001b[0m\n\u001b[0m",
      "\u001b[0;32m<ipython-input-79-7d5587d79f46>\u001b[0m in \u001b[0;36mfind_users_with_common_routes\u001b[0;34m(people, currentList, simThresh)\u001b[0m\n\u001b[1;32m     17\u001b[0m         \u001b[0mcount\u001b[0m \u001b[0;34m=\u001b[0m \u001b[0;36m0\u001b[0m\u001b[0;34m\u001b[0m\u001b[0;34m\u001b[0m\u001b[0m\n\u001b[1;32m     18\u001b[0m         \u001b[0;32mfor\u001b[0m \u001b[0mroute\u001b[0m \u001b[0;32min\u001b[0m \u001b[0mrange\u001b[0m\u001b[0;34m(\u001b[0m\u001b[0mlen\u001b[0m\u001b[0;34m(\u001b[0m\u001b[0mcurrentList\u001b[0m\u001b[0;34m)\u001b[0m\u001b[0;34m)\u001b[0m\u001b[0;34m:\u001b[0m\u001b[0;34m\u001b[0m\u001b[0;34m\u001b[0m\u001b[0m\n\u001b[0;32m---> 19\u001b[0;31m             \u001b[0;32mif\u001b[0m \u001b[0mcurrentList\u001b[0m\u001b[0;34m[\u001b[0m\u001b[0mroute\u001b[0m\u001b[0;34m]\u001b[0m \u001b[0;32min\u001b[0m \u001b[0mpeople\u001b[0m\u001b[0;34m.\u001b[0m\u001b[0miloc\u001b[0m\u001b[0;34m[\u001b[0m\u001b[0muser\u001b[0m\u001b[0;34m]\u001b[0m\u001b[0;34m[\u001b[0m\u001b[0;34m'starRatings'\u001b[0m\u001b[0;34m]\u001b[0m\u001b[0;34m:\u001b[0m\u001b[0;34m\u001b[0m\u001b[0;34m\u001b[0m\u001b[0m\n\u001b[0m\u001b[1;32m     20\u001b[0m                 \u001b[0mcount\u001b[0m \u001b[0;34m=\u001b[0m \u001b[0mcount\u001b[0m\u001b[0;34m+\u001b[0m\u001b[0;36m1\u001b[0m\u001b[0;34m\u001b[0m\u001b[0;34m\u001b[0m\u001b[0m\n\u001b[1;32m     21\u001b[0m             \u001b[0;32mif\u001b[0m \u001b[0mroute\u001b[0m \u001b[0;34m==\u001b[0m \u001b[0mskipThresh1\u001b[0m\u001b[0;34m:\u001b[0m\u001b[0;34m\u001b[0m\u001b[0;34m\u001b[0m\u001b[0m\n",
      "\u001b[0;32m~/anaconda3/lib/python3.7/site-packages/pandas/core/indexing.py\u001b[0m in \u001b[0;36m__getitem__\u001b[0;34m(self, key)\u001b[0m\n\u001b[1;32m   1476\u001b[0m \u001b[0;34m\u001b[0m\u001b[0m\n\u001b[1;32m   1477\u001b[0m             \u001b[0mmaybe_callable\u001b[0m \u001b[0;34m=\u001b[0m \u001b[0mcom\u001b[0m\u001b[0;34m.\u001b[0m\u001b[0m_apply_if_callable\u001b[0m\u001b[0;34m(\u001b[0m\u001b[0mkey\u001b[0m\u001b[0;34m,\u001b[0m \u001b[0mself\u001b[0m\u001b[0;34m.\u001b[0m\u001b[0mobj\u001b[0m\u001b[0;34m)\u001b[0m\u001b[0;34m\u001b[0m\u001b[0;34m\u001b[0m\u001b[0m\n\u001b[0;32m-> 1478\u001b[0;31m             \u001b[0;32mreturn\u001b[0m \u001b[0mself\u001b[0m\u001b[0;34m.\u001b[0m\u001b[0m_getitem_axis\u001b[0m\u001b[0;34m(\u001b[0m\u001b[0mmaybe_callable\u001b[0m\u001b[0;34m,\u001b[0m \u001b[0maxis\u001b[0m\u001b[0;34m=\u001b[0m\u001b[0maxis\u001b[0m\u001b[0;34m)\u001b[0m\u001b[0;34m\u001b[0m\u001b[0;34m\u001b[0m\u001b[0m\n\u001b[0m\u001b[1;32m   1479\u001b[0m \u001b[0;34m\u001b[0m\u001b[0m\n\u001b[1;32m   1480\u001b[0m     \u001b[0;32mdef\u001b[0m \u001b[0m_is_scalar_access\u001b[0m\u001b[0;34m(\u001b[0m\u001b[0mself\u001b[0m\u001b[0;34m,\u001b[0m \u001b[0mkey\u001b[0m\u001b[0;34m)\u001b[0m\u001b[0;34m:\u001b[0m\u001b[0;34m\u001b[0m\u001b[0;34m\u001b[0m\u001b[0m\n",
      "\u001b[0;32m~/anaconda3/lib/python3.7/site-packages/pandas/core/indexing.py\u001b[0m in \u001b[0;36m_getitem_axis\u001b[0;34m(self, key, axis)\u001b[0m\n\u001b[1;32m   2102\u001b[0m             \u001b[0mself\u001b[0m\u001b[0;34m.\u001b[0m\u001b[0m_validate_integer\u001b[0m\u001b[0;34m(\u001b[0m\u001b[0mkey\u001b[0m\u001b[0;34m,\u001b[0m \u001b[0maxis\u001b[0m\u001b[0;34m)\u001b[0m\u001b[0;34m\u001b[0m\u001b[0;34m\u001b[0m\u001b[0m\n\u001b[1;32m   2103\u001b[0m \u001b[0;34m\u001b[0m\u001b[0m\n\u001b[0;32m-> 2104\u001b[0;31m             \u001b[0;32mreturn\u001b[0m \u001b[0mself\u001b[0m\u001b[0;34m.\u001b[0m\u001b[0m_get_loc\u001b[0m\u001b[0;34m(\u001b[0m\u001b[0mkey\u001b[0m\u001b[0;34m,\u001b[0m \u001b[0maxis\u001b[0m\u001b[0;34m=\u001b[0m\u001b[0maxis\u001b[0m\u001b[0;34m)\u001b[0m\u001b[0;34m\u001b[0m\u001b[0;34m\u001b[0m\u001b[0m\n\u001b[0m\u001b[1;32m   2105\u001b[0m \u001b[0;34m\u001b[0m\u001b[0m\n\u001b[1;32m   2106\u001b[0m     \u001b[0;32mdef\u001b[0m \u001b[0m_convert_to_indexer\u001b[0m\u001b[0;34m(\u001b[0m\u001b[0mself\u001b[0m\u001b[0;34m,\u001b[0m \u001b[0mobj\u001b[0m\u001b[0;34m,\u001b[0m \u001b[0maxis\u001b[0m\u001b[0;34m=\u001b[0m\u001b[0;32mNone\u001b[0m\u001b[0;34m,\u001b[0m \u001b[0mis_setter\u001b[0m\u001b[0;34m=\u001b[0m\u001b[0;32mFalse\u001b[0m\u001b[0;34m)\u001b[0m\u001b[0;34m:\u001b[0m\u001b[0;34m\u001b[0m\u001b[0;34m\u001b[0m\u001b[0m\n",
      "\u001b[0;32m~/anaconda3/lib/python3.7/site-packages/pandas/core/indexing.py\u001b[0m in \u001b[0;36m_get_loc\u001b[0;34m(self, key, axis)\u001b[0m\n\u001b[1;32m    143\u001b[0m         \u001b[0;32mif\u001b[0m \u001b[0maxis\u001b[0m \u001b[0;32mis\u001b[0m \u001b[0;32mNone\u001b[0m\u001b[0;34m:\u001b[0m\u001b[0;34m\u001b[0m\u001b[0;34m\u001b[0m\u001b[0m\n\u001b[1;32m    144\u001b[0m             \u001b[0maxis\u001b[0m \u001b[0;34m=\u001b[0m \u001b[0mself\u001b[0m\u001b[0;34m.\u001b[0m\u001b[0maxis\u001b[0m\u001b[0;34m\u001b[0m\u001b[0;34m\u001b[0m\u001b[0m\n\u001b[0;32m--> 145\u001b[0;31m         \u001b[0;32mreturn\u001b[0m \u001b[0mself\u001b[0m\u001b[0;34m.\u001b[0m\u001b[0mobj\u001b[0m\u001b[0;34m.\u001b[0m\u001b[0m_ixs\u001b[0m\u001b[0;34m(\u001b[0m\u001b[0mkey\u001b[0m\u001b[0;34m,\u001b[0m \u001b[0maxis\u001b[0m\u001b[0;34m=\u001b[0m\u001b[0maxis\u001b[0m\u001b[0;34m)\u001b[0m\u001b[0;34m\u001b[0m\u001b[0;34m\u001b[0m\u001b[0m\n\u001b[0m\u001b[1;32m    146\u001b[0m \u001b[0;34m\u001b[0m\u001b[0m\n\u001b[1;32m    147\u001b[0m     \u001b[0;32mdef\u001b[0m \u001b[0m_slice\u001b[0m\u001b[0;34m(\u001b[0m\u001b[0mself\u001b[0m\u001b[0;34m,\u001b[0m \u001b[0mobj\u001b[0m\u001b[0;34m,\u001b[0m \u001b[0maxis\u001b[0m\u001b[0;34m=\u001b[0m\u001b[0;32mNone\u001b[0m\u001b[0;34m,\u001b[0m \u001b[0mkind\u001b[0m\u001b[0;34m=\u001b[0m\u001b[0;32mNone\u001b[0m\u001b[0;34m)\u001b[0m\u001b[0;34m:\u001b[0m\u001b[0;34m\u001b[0m\u001b[0;34m\u001b[0m\u001b[0m\n",
      "\u001b[0;32m~/anaconda3/lib/python3.7/site-packages/pandas/core/frame.py\u001b[0m in \u001b[0;36m_ixs\u001b[0;34m(self, i, axis)\u001b[0m\n\u001b[1;32m   2624\u001b[0m                                                       \u001b[0mindex\u001b[0m\u001b[0;34m=\u001b[0m\u001b[0mself\u001b[0m\u001b[0;34m.\u001b[0m\u001b[0mcolumns\u001b[0m\u001b[0;34m,\u001b[0m\u001b[0;34m\u001b[0m\u001b[0;34m\u001b[0m\u001b[0m\n\u001b[1;32m   2625\u001b[0m                                                       \u001b[0mname\u001b[0m\u001b[0;34m=\u001b[0m\u001b[0mself\u001b[0m\u001b[0;34m.\u001b[0m\u001b[0mindex\u001b[0m\u001b[0;34m[\u001b[0m\u001b[0mi\u001b[0m\u001b[0;34m]\u001b[0m\u001b[0;34m,\u001b[0m\u001b[0;34m\u001b[0m\u001b[0;34m\u001b[0m\u001b[0m\n\u001b[0;32m-> 2626\u001b[0;31m                                                       dtype=new_values.dtype)\n\u001b[0m\u001b[1;32m   2627\u001b[0m                 \u001b[0mresult\u001b[0m\u001b[0;34m.\u001b[0m\u001b[0m_set_is_copy\u001b[0m\u001b[0;34m(\u001b[0m\u001b[0mself\u001b[0m\u001b[0;34m,\u001b[0m \u001b[0mcopy\u001b[0m\u001b[0;34m=\u001b[0m\u001b[0mcopy\u001b[0m\u001b[0;34m)\u001b[0m\u001b[0;34m\u001b[0m\u001b[0;34m\u001b[0m\u001b[0m\n\u001b[1;32m   2628\u001b[0m                 \u001b[0;32mreturn\u001b[0m \u001b[0mresult\u001b[0m\u001b[0;34m\u001b[0m\u001b[0;34m\u001b[0m\u001b[0m\n",
      "\u001b[0;32m~/anaconda3/lib/python3.7/site-packages/pandas/core/series.py\u001b[0m in \u001b[0;36m__init__\u001b[0;34m(self, data, index, dtype, name, copy, fastpath)\u001b[0m\n\u001b[1;32m    275\u001b[0m                                        raise_cast_failure=True)\n\u001b[1;32m    276\u001b[0m \u001b[0;34m\u001b[0m\u001b[0m\n\u001b[0;32m--> 277\u001b[0;31m                 \u001b[0mdata\u001b[0m \u001b[0;34m=\u001b[0m \u001b[0mSingleBlockManager\u001b[0m\u001b[0;34m(\u001b[0m\u001b[0mdata\u001b[0m\u001b[0;34m,\u001b[0m \u001b[0mindex\u001b[0m\u001b[0;34m,\u001b[0m \u001b[0mfastpath\u001b[0m\u001b[0;34m=\u001b[0m\u001b[0;32mTrue\u001b[0m\u001b[0;34m)\u001b[0m\u001b[0;34m\u001b[0m\u001b[0;34m\u001b[0m\u001b[0m\n\u001b[0m\u001b[1;32m    278\u001b[0m \u001b[0;34m\u001b[0m\u001b[0m\n\u001b[1;32m    279\u001b[0m         \u001b[0mgeneric\u001b[0m\u001b[0;34m.\u001b[0m\u001b[0mNDFrame\u001b[0m\u001b[0;34m.\u001b[0m\u001b[0m__init__\u001b[0m\u001b[0;34m(\u001b[0m\u001b[0mself\u001b[0m\u001b[0;34m,\u001b[0m \u001b[0mdata\u001b[0m\u001b[0;34m,\u001b[0m \u001b[0mfastpath\u001b[0m\u001b[0;34m=\u001b[0m\u001b[0;32mTrue\u001b[0m\u001b[0;34m)\u001b[0m\u001b[0;34m\u001b[0m\u001b[0;34m\u001b[0m\u001b[0m\n",
      "\u001b[0;32m~/anaconda3/lib/python3.7/site-packages/pandas/core/internals.py\u001b[0m in \u001b[0;36m__init__\u001b[0;34m(self, block, axis, do_integrity_check, fastpath)\u001b[0m\n\u001b[1;32m   4675\u001b[0m \u001b[0;34m\u001b[0m\u001b[0m\n\u001b[1;32m   4676\u001b[0m         \u001b[0;32mif\u001b[0m \u001b[0;32mnot\u001b[0m \u001b[0misinstance\u001b[0m\u001b[0;34m(\u001b[0m\u001b[0mblock\u001b[0m\u001b[0;34m,\u001b[0m \u001b[0mBlock\u001b[0m\u001b[0;34m)\u001b[0m\u001b[0;34m:\u001b[0m\u001b[0;34m\u001b[0m\u001b[0;34m\u001b[0m\u001b[0m\n\u001b[0;32m-> 4677\u001b[0;31m             \u001b[0mblock\u001b[0m \u001b[0;34m=\u001b[0m \u001b[0mmake_block\u001b[0m\u001b[0;34m(\u001b[0m\u001b[0mblock\u001b[0m\u001b[0;34m,\u001b[0m \u001b[0mplacement\u001b[0m\u001b[0;34m=\u001b[0m\u001b[0mslice\u001b[0m\u001b[0;34m(\u001b[0m\u001b[0;36m0\u001b[0m\u001b[0;34m,\u001b[0m \u001b[0mlen\u001b[0m\u001b[0;34m(\u001b[0m\u001b[0maxis\u001b[0m\u001b[0;34m)\u001b[0m\u001b[0;34m)\u001b[0m\u001b[0;34m,\u001b[0m \u001b[0mndim\u001b[0m\u001b[0;34m=\u001b[0m\u001b[0;36m1\u001b[0m\u001b[0;34m)\u001b[0m\u001b[0;34m\u001b[0m\u001b[0;34m\u001b[0m\u001b[0m\n\u001b[0m\u001b[1;32m   4678\u001b[0m \u001b[0;34m\u001b[0m\u001b[0m\n\u001b[1;32m   4679\u001b[0m         \u001b[0mself\u001b[0m\u001b[0;34m.\u001b[0m\u001b[0mblocks\u001b[0m \u001b[0;34m=\u001b[0m \u001b[0;34m[\u001b[0m\u001b[0mblock\u001b[0m\u001b[0;34m]\u001b[0m\u001b[0;34m\u001b[0m\u001b[0;34m\u001b[0m\u001b[0m\n",
      "\u001b[0;32m~/anaconda3/lib/python3.7/site-packages/pandas/core/internals.py\u001b[0m in \u001b[0;36mmake_block\u001b[0;34m(values, placement, klass, ndim, dtype, fastpath)\u001b[0m\n\u001b[1;32m   3203\u001b[0m                      placement=placement, dtype=dtype)\n\u001b[1;32m   3204\u001b[0m \u001b[0;34m\u001b[0m\u001b[0m\n\u001b[0;32m-> 3205\u001b[0;31m     \u001b[0;32mreturn\u001b[0m \u001b[0mklass\u001b[0m\u001b[0;34m(\u001b[0m\u001b[0mvalues\u001b[0m\u001b[0;34m,\u001b[0m \u001b[0mndim\u001b[0m\u001b[0;34m=\u001b[0m\u001b[0mndim\u001b[0m\u001b[0;34m,\u001b[0m \u001b[0mplacement\u001b[0m\u001b[0;34m=\u001b[0m\u001b[0mplacement\u001b[0m\u001b[0;34m)\u001b[0m\u001b[0;34m\u001b[0m\u001b[0;34m\u001b[0m\u001b[0m\n\u001b[0m\u001b[1;32m   3206\u001b[0m \u001b[0;34m\u001b[0m\u001b[0m\n\u001b[1;32m   3207\u001b[0m \u001b[0;31m# TODO: flexible with index=None and/or items=None\u001b[0m\u001b[0;34m\u001b[0m\u001b[0;34m\u001b[0m\u001b[0;34m\u001b[0m\u001b[0m\n",
      "\u001b[0;32m~/anaconda3/lib/python3.7/site-packages/pandas/core/internals.py\u001b[0m in \u001b[0;36m__init__\u001b[0;34m(self, values, placement, ndim)\u001b[0m\n\u001b[1;32m   2300\u001b[0m             \u001b[0mvalues\u001b[0m \u001b[0;34m=\u001b[0m \u001b[0mnp\u001b[0m\u001b[0;34m.\u001b[0m\u001b[0marray\u001b[0m\u001b[0;34m(\u001b[0m\u001b[0mvalues\u001b[0m\u001b[0;34m,\u001b[0m \u001b[0mdtype\u001b[0m\u001b[0;34m=\u001b[0m\u001b[0mobject\u001b[0m\u001b[0;34m)\u001b[0m\u001b[0;34m\u001b[0m\u001b[0;34m\u001b[0m\u001b[0m\n\u001b[1;32m   2301\u001b[0m \u001b[0;34m\u001b[0m\u001b[0m\n\u001b[0;32m-> 2302\u001b[0;31m         super(ObjectBlock, self).__init__(values, ndim=ndim,\n\u001b[0m\u001b[1;32m   2303\u001b[0m                                           placement=placement)\n\u001b[1;32m   2304\u001b[0m \u001b[0;34m\u001b[0m\u001b[0m\n",
      "\u001b[0;31mKeyboardInterrupt\u001b[0m: "
     ]
    }
   ],
   "source": [
    "similarUsers2 = find_users_with_common_routes(people, lst, 0.08)"
   ]
  },
  {
   "cell_type": "code",
   "execution_count": null,
   "metadata": {},
   "outputs": [],
   "source": [
    "lst = set(people.loc[similarUsers2[0]]['starRatings'])\n",
    "for i in range(len(similarUsers2)):\n",
    "    lst = lst.intersection(set(people.loc[similarUsers2[i]]['starRatings']))"
   ]
  },
  {
   "cell_type": "code",
   "execution_count": null,
   "metadata": {},
   "outputs": [],
   "source": [
    "print(\"# Similar Users:\", len(similarUsers2))\n",
    "print(\"# Similar Routes:\", len(lst))\n",
    "print(\"List of Similar Users:\")\n",
    "\n",
    "newUsers2 = set(similarUsers2)-set(testGroup)\n",
    "for i in newUsers2:\n",
    "    print(i)"
   ]
  },
  {
   "cell_type": "markdown",
   "metadata": {},
   "source": [
    "# Filtering by area"
   ]
  },
  {
   "cell_type": "code",
   "execution_count": 9,
   "metadata": {},
   "outputs": [
    {
     "data": {
      "text/html": [
       "<div>\n",
       "<style scoped>\n",
       "    .dataframe tbody tr th:only-of-type {\n",
       "        vertical-align: middle;\n",
       "    }\n",
       "\n",
       "    .dataframe tbody tr th {\n",
       "        vertical-align: top;\n",
       "    }\n",
       "\n",
       "    .dataframe thead th {\n",
       "        text-align: right;\n",
       "    }\n",
       "</style>\n",
       "<table border=\"1\" class=\"dataframe\">\n",
       "  <thead>\n",
       "    <tr style=\"text-align: right;\">\n",
       "      <th></th>\n",
       "      <th>name</th>\n",
       "      <th>faInfo</th>\n",
       "      <th>commentCount</th>\n",
       "      <th>photoCount</th>\n",
       "      <th>latitude</th>\n",
       "      <th>longitude</th>\n",
       "      <th>diffRating</th>\n",
       "      <th>avgQualityRating</th>\n",
       "      <th>numQualityVotes</th>\n",
       "      <th>desc_aggregateData</th>\n",
       "      <th>...</th>\n",
       "      <th>bc1</th>\n",
       "      <th>bc2</th>\n",
       "      <th>bc3</th>\n",
       "      <th>bc4</th>\n",
       "      <th>bc5</th>\n",
       "      <th>bc6</th>\n",
       "      <th>bc7</th>\n",
       "      <th>bc8</th>\n",
       "      <th>bc9</th>\n",
       "      <th>bc10</th>\n",
       "    </tr>\n",
       "  </thead>\n",
       "  <tbody>\n",
       "    <tr>\n",
       "      <th>https://www.mountainproject.com/route/105714687/bridalveil-falls-right-side</th>\n",
       "      <td>Bridalveil Falls Right Side</td>\n",
       "      <td>unknown</td>\n",
       "      <td>1</td>\n",
       "      <td>1</td>\n",
       "      <td>44.457798</td>\n",
       "      <td>-103.858901</td>\n",
       "      <td>5.9</td>\n",
       "      <td>3.2</td>\n",
       "      <td>5.0</td>\n",
       "      <td>WI2+ Trad, Ice</td>\n",
       "      <td>...</td>\n",
       "      <td>https://www.mountainproject.com/area/105708963...</td>\n",
       "      <td>https://www.mountainproject.com/area/105714282...</td>\n",
       "      <td>https://www.mountainproject.com/area/105714675...</td>\n",
       "      <td></td>\n",
       "      <td></td>\n",
       "      <td></td>\n",
       "      <td></td>\n",
       "      <td></td>\n",
       "      <td></td>\n",
       "      <td></td>\n",
       "    </tr>\n",
       "    <tr>\n",
       "      <th>https://www.mountainproject.com/route/105714691/honey-bear-main-flow</th>\n",
       "      <td>Honey Bear Main Flow</td>\n",
       "      <td>Paul Piana, 1978/79</td>\n",
       "      <td>1</td>\n",
       "      <td>4</td>\n",
       "      <td>43.869700</td>\n",
       "      <td>-103.541302</td>\n",
       "      <td>None</td>\n",
       "      <td>2.2</td>\n",
       "      <td>6.0</td>\n",
       "      <td>WI3 Ice</td>\n",
       "      <td>...</td>\n",
       "      <td>https://www.mountainproject.com/area/105708963...</td>\n",
       "      <td>https://www.mountainproject.com/area/106058091...</td>\n",
       "      <td>https://www.mountainproject.com/area/105714306...</td>\n",
       "      <td>https://www.mountainproject.com/area/105714678...</td>\n",
       "      <td></td>\n",
       "      <td></td>\n",
       "      <td></td>\n",
       "      <td></td>\n",
       "      <td></td>\n",
       "      <td></td>\n",
       "    </tr>\n",
       "    <tr>\n",
       "      <th>https://www.mountainproject.com/route/105714695/terminator-pillar</th>\n",
       "      <td>Terminator Pillar</td>\n",
       "      <td>unknown</td>\n",
       "      <td>0</td>\n",
       "      <td>2</td>\n",
       "      <td>44.457798</td>\n",
       "      <td>-103.858901</td>\n",
       "      <td>5.9</td>\n",
       "      <td>3.7</td>\n",
       "      <td>6.0</td>\n",
       "      <td>WI4 Trad, Ice</td>\n",
       "      <td>...</td>\n",
       "      <td>https://www.mountainproject.com/area/105708963...</td>\n",
       "      <td>https://www.mountainproject.com/area/105714282...</td>\n",
       "      <td>https://www.mountainproject.com/area/105714681...</td>\n",
       "      <td></td>\n",
       "      <td></td>\n",
       "      <td></td>\n",
       "      <td></td>\n",
       "      <td></td>\n",
       "      <td></td>\n",
       "      <td></td>\n",
       "    </tr>\n",
       "    <tr>\n",
       "      <th>https://www.mountainproject.com/route/105714699/11th-hour-center</th>\n",
       "      <td>11th Hour Center</td>\n",
       "      <td>unknown</td>\n",
       "      <td>0</td>\n",
       "      <td>3</td>\n",
       "      <td>44.457798</td>\n",
       "      <td>-103.858901</td>\n",
       "      <td>5.10</td>\n",
       "      <td>2.3</td>\n",
       "      <td>9.0</td>\n",
       "      <td>WI3 Trad, TR, Ice</td>\n",
       "      <td>...</td>\n",
       "      <td>https://www.mountainproject.com/area/105708963...</td>\n",
       "      <td>https://www.mountainproject.com/area/105714282...</td>\n",
       "      <td>https://www.mountainproject.com/area/105714684...</td>\n",
       "      <td></td>\n",
       "      <td></td>\n",
       "      <td></td>\n",
       "      <td></td>\n",
       "      <td></td>\n",
       "      <td></td>\n",
       "      <td></td>\n",
       "    </tr>\n",
       "    <tr>\n",
       "      <th>https://www.mountainproject.com/route/105714703/gorillas-in-the-schist</th>\n",
       "      <td>Gorillas in the Schist</td>\n",
       "      <td>John Walker, Dawn Glanc - Nov. 7, 2000</td>\n",
       "      <td>12</td>\n",
       "      <td>0</td>\n",
       "      <td>44.457798</td>\n",
       "      <td>-103.858901</td>\n",
       "      <td>5.9</td>\n",
       "      <td>1.5</td>\n",
       "      <td>2.0</td>\n",
       "      <td>5.9 WI3 M5 X Trad, Mixed, Ice</td>\n",
       "      <td>...</td>\n",
       "      <td>https://www.mountainproject.com/area/105708963...</td>\n",
       "      <td>https://www.mountainproject.com/area/105714282...</td>\n",
       "      <td>https://www.mountainproject.com/area/105714675...</td>\n",
       "      <td></td>\n",
       "      <td></td>\n",
       "      <td></td>\n",
       "      <td></td>\n",
       "      <td></td>\n",
       "      <td></td>\n",
       "      <td></td>\n",
       "    </tr>\n",
       "  </tbody>\n",
       "</table>\n",
       "<p>5 rows × 37 columns</p>\n",
       "</div>"
      ],
      "text/plain": [
       "                                                                           name  \\\n",
       "https://www.mountainproject.com/route/105714687...  Bridalveil Falls Right Side   \n",
       "https://www.mountainproject.com/route/105714691...         Honey Bear Main Flow   \n",
       "https://www.mountainproject.com/route/105714695...            Terminator Pillar   \n",
       "https://www.mountainproject.com/route/105714699...             11th Hour Center   \n",
       "https://www.mountainproject.com/route/105714703...       Gorillas in the Schist   \n",
       "\n",
       "                                                                                    faInfo  \\\n",
       "https://www.mountainproject.com/route/105714687...                                 unknown   \n",
       "https://www.mountainproject.com/route/105714691...                     Paul Piana, 1978/79   \n",
       "https://www.mountainproject.com/route/105714695...                                 unknown   \n",
       "https://www.mountainproject.com/route/105714699...                                 unknown   \n",
       "https://www.mountainproject.com/route/105714703...  John Walker, Dawn Glanc - Nov. 7, 2000   \n",
       "\n",
       "                                                   commentCount  photoCount  \\\n",
       "https://www.mountainproject.com/route/105714687...            1           1   \n",
       "https://www.mountainproject.com/route/105714691...            1           4   \n",
       "https://www.mountainproject.com/route/105714695...            0           2   \n",
       "https://www.mountainproject.com/route/105714699...            0           3   \n",
       "https://www.mountainproject.com/route/105714703...           12           0   \n",
       "\n",
       "                                                     latitude   longitude  \\\n",
       "https://www.mountainproject.com/route/105714687...  44.457798 -103.858901   \n",
       "https://www.mountainproject.com/route/105714691...  43.869700 -103.541302   \n",
       "https://www.mountainproject.com/route/105714695...  44.457798 -103.858901   \n",
       "https://www.mountainproject.com/route/105714699...  44.457798 -103.858901   \n",
       "https://www.mountainproject.com/route/105714703...  44.457798 -103.858901   \n",
       "\n",
       "                                                   diffRating  \\\n",
       "https://www.mountainproject.com/route/105714687...        5.9   \n",
       "https://www.mountainproject.com/route/105714691...       None   \n",
       "https://www.mountainproject.com/route/105714695...        5.9   \n",
       "https://www.mountainproject.com/route/105714699...       5.10   \n",
       "https://www.mountainproject.com/route/105714703...        5.9   \n",
       "\n",
       "                                                    avgQualityRating  \\\n",
       "https://www.mountainproject.com/route/105714687...               3.2   \n",
       "https://www.mountainproject.com/route/105714691...               2.2   \n",
       "https://www.mountainproject.com/route/105714695...               3.7   \n",
       "https://www.mountainproject.com/route/105714699...               2.3   \n",
       "https://www.mountainproject.com/route/105714703...               1.5   \n",
       "\n",
       "                                                    numQualityVotes  \\\n",
       "https://www.mountainproject.com/route/105714687...              5.0   \n",
       "https://www.mountainproject.com/route/105714691...              6.0   \n",
       "https://www.mountainproject.com/route/105714695...              6.0   \n",
       "https://www.mountainproject.com/route/105714699...              9.0   \n",
       "https://www.mountainproject.com/route/105714703...              2.0   \n",
       "\n",
       "                                                               desc_aggregateData  \\\n",
       "https://www.mountainproject.com/route/105714687...                 WI2+ Trad, Ice   \n",
       "https://www.mountainproject.com/route/105714691...                        WI3 Ice   \n",
       "https://www.mountainproject.com/route/105714695...                  WI4 Trad, Ice   \n",
       "https://www.mountainproject.com/route/105714699...              WI3 Trad, TR, Ice   \n",
       "https://www.mountainproject.com/route/105714703...  5.9 WI3 M5 X Trad, Mixed, Ice   \n",
       "\n",
       "                                                   ...   \\\n",
       "https://www.mountainproject.com/route/105714687... ...    \n",
       "https://www.mountainproject.com/route/105714691... ...    \n",
       "https://www.mountainproject.com/route/105714695... ...    \n",
       "https://www.mountainproject.com/route/105714699... ...    \n",
       "https://www.mountainproject.com/route/105714703... ...    \n",
       "\n",
       "                                                                                                  bc1  \\\n",
       "https://www.mountainproject.com/route/105714687...  https://www.mountainproject.com/area/105708963...   \n",
       "https://www.mountainproject.com/route/105714691...  https://www.mountainproject.com/area/105708963...   \n",
       "https://www.mountainproject.com/route/105714695...  https://www.mountainproject.com/area/105708963...   \n",
       "https://www.mountainproject.com/route/105714699...  https://www.mountainproject.com/area/105708963...   \n",
       "https://www.mountainproject.com/route/105714703...  https://www.mountainproject.com/area/105708963...   \n",
       "\n",
       "                                                                                                  bc2  \\\n",
       "https://www.mountainproject.com/route/105714687...  https://www.mountainproject.com/area/105714282...   \n",
       "https://www.mountainproject.com/route/105714691...  https://www.mountainproject.com/area/106058091...   \n",
       "https://www.mountainproject.com/route/105714695...  https://www.mountainproject.com/area/105714282...   \n",
       "https://www.mountainproject.com/route/105714699...  https://www.mountainproject.com/area/105714282...   \n",
       "https://www.mountainproject.com/route/105714703...  https://www.mountainproject.com/area/105714282...   \n",
       "\n",
       "                                                                                                  bc3  \\\n",
       "https://www.mountainproject.com/route/105714687...  https://www.mountainproject.com/area/105714675...   \n",
       "https://www.mountainproject.com/route/105714691...  https://www.mountainproject.com/area/105714306...   \n",
       "https://www.mountainproject.com/route/105714695...  https://www.mountainproject.com/area/105714681...   \n",
       "https://www.mountainproject.com/route/105714699...  https://www.mountainproject.com/area/105714684...   \n",
       "https://www.mountainproject.com/route/105714703...  https://www.mountainproject.com/area/105714675...   \n",
       "\n",
       "                                                                                                  bc4  \\\n",
       "https://www.mountainproject.com/route/105714687...                                                      \n",
       "https://www.mountainproject.com/route/105714691...  https://www.mountainproject.com/area/105714678...   \n",
       "https://www.mountainproject.com/route/105714695...                                                      \n",
       "https://www.mountainproject.com/route/105714699...                                                      \n",
       "https://www.mountainproject.com/route/105714703...                                                      \n",
       "\n",
       "                                                    bc5  bc6  bc7  bc8 bc9  \\\n",
       "https://www.mountainproject.com/route/105714687...                           \n",
       "https://www.mountainproject.com/route/105714691...                           \n",
       "https://www.mountainproject.com/route/105714695...                           \n",
       "https://www.mountainproject.com/route/105714699...                           \n",
       "https://www.mountainproject.com/route/105714703...                           \n",
       "\n",
       "                                                   bc10  \n",
       "https://www.mountainproject.com/route/105714687...       \n",
       "https://www.mountainproject.com/route/105714691...       \n",
       "https://www.mountainproject.com/route/105714695...       \n",
       "https://www.mountainproject.com/route/105714699...       \n",
       "https://www.mountainproject.com/route/105714703...       \n",
       "\n",
       "[5 rows x 37 columns]"
      ]
     },
     "execution_count": 9,
     "metadata": {},
     "output_type": "execute_result"
    }
   ],
   "source": [
    "routes.head(5)"
   ]
  },
  {
   "cell_type": "code",
   "execution_count": 69,
   "metadata": {},
   "outputs": [],
   "source": [
    "# Get top N most-rated routes at avalong\n",
    "N=10\n",
    "\n",
    "avalonRoutes = routes.loc[routes['bc4']=='https://www.mountainproject.com/area/105745528/avalon']\n",
    "avalonRoutes = avalonRoutes.sort_values('numQualityVotes', ascending=False)\n",
    "avalonRoutes = avalonRoutes[:N]"
   ]
  },
  {
   "cell_type": "code",
   "execution_count": 68,
   "metadata": {
    "scrolled": false
   },
   "outputs": [
    {
     "name": "stdout",
     "output_type": "stream",
     "text": [
      "43 have climbed the 5 most-rated climbs at Avalon\n"
     ]
    }
   ],
   "source": [
    "# Create a list of all users who have climbed the \"N\" most-rated route at Avalon\n",
    "subPeople = set([])\n",
    "            \n",
    "for i in range(len(avalonRoutes)):\n",
    "    tempSet=[]\n",
    "    for j in range(len(people)):\n",
    "        if avalonRoutes.index[i] in people.iloc[j]['starRatings']:\n",
    "            tempSet.append(people.index[j])\n",
    "            print(j/len(people), end='\\r')        \n",
    "    if i==0:\n",
    "        subPeople=set(tempSet)\n",
    "    else:\n",
    "        subPeople = subPeople.intersection(set(tempSet))\n",
    "            \n",
    "print(len(subPeople),\"have climbed the\",N,\"most-rated climbs at Avalon\")"
   ]
  },
  {
   "cell_type": "markdown",
   "metadata": {},
   "source": [
    "# Function to find common people in an area"
   ]
  },
  {
   "cell_type": "code",
   "execution_count": 41,
   "metadata": {},
   "outputs": [],
   "source": [
    "# Function to find all common people between N most-popular routes\n",
    "def findCommonPeople(areaUrl, breadcrumbTier, nRoutes, routes, people):\n",
    "    areaRoutes = routes.loc[routes[breadcrumbTier]==areaUrl]\n",
    "    areaRoutes = areaRoutes.sort_values('numQualityVotes', ascending=False)\n",
    "    areaRoutes = areaRoutes[:nRoutes]\n",
    "    \n",
    "    subPeople = set([])\n",
    "    \n",
    "    # Filter the people dataset to only include those with at least nRoutes starRatings\n",
    "    people = people.loc[people['numStarRatings']>=nRoutes*5]\n",
    "            \n",
    "    for i in range(len(areaRoutes)):\n",
    "        tempSet=[]\n",
    "        print(\"Parsing peopleDF for route\", i+1, \"of\", nRoutes)\n",
    "        for j in range(len(people)):\n",
    "            if areaRoutes.index[i] in people.iloc[j]['starRatings']:\n",
    "                tempSet.append(people.index[j])\n",
    "                print(j/len(people), end='\\r')        \n",
    "        if i==0:\n",
    "            subPeople=set(tempSet)\n",
    "        else:\n",
    "            subPeople = subPeople.intersection(set(tempSet))\n",
    "            \n",
    "    print(len(subPeople),\"have climbed the\", nRoutes, \"most-rated climbs at\", areaUrl) \n",
    "\n",
    "    return subPeople"
   ]
  },
  {
   "cell_type": "code",
   "execution_count": 34,
   "metadata": {},
   "outputs": [
    {
     "name": "stdout",
     "output_type": "stream",
     "text": [
      "Parsing peopleDF for route 1 of 5\n",
      "Parsing peopleDF for route 2 of 5\n",
      "Parsing peopleDF for route 3 of 5\n",
      "Parsing peopleDF for route 4 of 5\n",
      "Parsing peopleDF for route 5 of 5\n",
      "95 have climbed the 5 most-rated climbs at https://www.mountainproject.com/area/105708959/california\n"
     ]
    }
   ],
   "source": [
    "cali='https://www.mountainproject.com/area/105708959/california'\n",
    "commonFolks = findCommonPeople(cali, 'bc1', 5, routes, people)"
   ]
  },
  {
   "cell_type": "code",
   "execution_count": 35,
   "metadata": {
    "scrolled": true
   },
   "outputs": [
    {
     "name": "stdout",
     "output_type": "stream",
     "text": [
      "Parsing peopleDF for route 1 of 10\n",
      "Parsing peopleDF for route 2 of 10\n",
      "Parsing peopleDF for route 3 of 10\n",
      "Parsing peopleDF for route 4 of 10\n",
      "Parsing peopleDF for route 5 of 10\n",
      "Parsing peopleDF for route 6 of 10\n",
      "Parsing peopleDF for route 7 of 10\n",
      "Parsing peopleDF for route 8 of 10\n",
      "Parsing peopleDF for route 9 of 10\n",
      "Parsing peopleDF for route 10 of 10\n",
      "33 have climbed the 10 most-rated climbs at https://www.mountainproject.com/area/105833381/yosemite-national-park\n"
     ]
    }
   ],
   "source": [
    "yos = 'https://www.mountainproject.com/area/105833381/yosemite-national-park'\n",
    "commonFolks2 = findCommonPeople(yos, 'bc2', 10, routes, people)"
   ]
  },
  {
   "cell_type": "code",
   "execution_count": 36,
   "metadata": {},
   "outputs": [
    {
     "name": "stdout",
     "output_type": "stream",
     "text": [
      "Parsing peopleDF for route 1 of 10\n",
      "0.48417337597882436458Parsing peopleDF for route 2 of 10\n",
      "Parsing peopleDF for route 3 of 10\n",
      "Parsing peopleDF for route 4 of 10\n",
      "Parsing peopleDF for route 5 of 10\n",
      "Parsing peopleDF for route 6 of 10\n",
      "Parsing peopleDF for route 7 of 10\n",
      "Parsing peopleDF for route 8 of 10\n",
      "Parsing peopleDF for route 9 of 10\n",
      "Parsing peopleDF for route 10 of 10\n",
      "26 have climbed the 10 most-rated climbs at https://www.mountainproject.com/area/105708956/colorado\n"
     ]
    }
   ],
   "source": [
    "col = 'https://www.mountainproject.com/area/105708956/colorado'\n",
    "commonFolks3 = findCommonPeople(col, 'bc1', 10, routes, people)"
   ]
  },
  {
   "cell_type": "code",
   "execution_count": 43,
   "metadata": {},
   "outputs": [
    {
     "name": "stdout",
     "output_type": "stream",
     "text": [
      "Parsing peopleDF for route 1 of 20\n",
      "Parsing peopleDF for route 2 of 20\n",
      "Parsing peopleDF for route 3 of 20\n",
      "Parsing peopleDF for route 4 of 20\n",
      "Parsing peopleDF for route 5 of 20\n",
      "Parsing peopleDF for route 6 of 20\n",
      "Parsing peopleDF for route 7 of 20\n",
      "Parsing peopleDF for route 8 of 20\n",
      "Parsing peopleDF for route 9 of 20\n",
      "Parsing peopleDF for route 10 of 20\n",
      "Parsing peopleDF for route 11 of 20\n",
      "Parsing peopleDF for route 12 of 20\n",
      "Parsing peopleDF for route 13 of 20\n",
      "Parsing peopleDF for route 14 of 20\n",
      "Parsing peopleDF for route 15 of 20\n",
      "Parsing peopleDF for route 16 of 20\n",
      "Parsing peopleDF for route 17 of 20\n",
      "Parsing peopleDF for route 18 of 20\n",
      "Parsing peopleDF for route 19 of 20\n",
      "Parsing peopleDF for route 20 of 20\n",
      "30 have climbed the 20 most-rated climbs at https://www.mountainproject.com/area/105744246/eldorado-canyon-sp\n"
     ]
    }
   ],
   "source": [
    "eldo = 'https://www.mountainproject.com/area/105744246/eldorado-canyon-sp'\n",
    "comFolks4 = findCommonPeople(eldo, 'bc3', 20, routes, people)"
   ]
  },
  {
   "cell_type": "code",
   "execution_count": 40,
   "metadata": {},
   "outputs": [
    {
     "name": "stdout",
     "output_type": "stream",
     "text": [
      "Parsing peopleDF for route 1 of 15\n",
      "Parsing peopleDF for route 2 of 15\n",
      "Parsing peopleDF for route 3 of 15\n",
      "Parsing peopleDF for route 4 of 15\n",
      "Parsing peopleDF for route 5 of 15\n",
      "Parsing peopleDF for route 6 of 15\n",
      "Parsing peopleDF for route 7 of 15\n",
      "Parsing peopleDF for route 8 of 15\n",
      "Parsing peopleDF for route 9 of 15\n",
      "Parsing peopleDF for route 10 of 15\n",
      "Parsing peopleDF for route 11 of 15\n",
      "Parsing peopleDF for route 12 of 15\n",
      "Parsing peopleDF for route 13 of 15\n",
      "Parsing peopleDF for route 14 of 15\n",
      "Parsing peopleDF for route 15 of 15\n",
      "52 have climbed the 15 most-rated climbs at https://www.mountainproject.com/area/105744246/eldorado-canyon-sp\n"
     ]
    }
   ],
   "source": [
    "comFolks4 = findCommonPeople(eldo, 'bc3', 15, routes, people)"
   ]
  },
  {
   "cell_type": "code",
   "execution_count": null,
   "metadata": {},
   "outputs": [],
   "source": [
    "calcOptimalRoutes = []\n",
    "for i in range(5, 20):\n",
    "    ppl = findCommonPeople(eldo, 'bc3', i, roites, people)\n",
    "    calcOptimalRoutes.append(i, len(ppl))\n"
   ]
  }
 ],
 "metadata": {
  "kernelspec": {
   "display_name": "Python 3",
   "language": "python",
   "name": "python3"
  },
  "language_info": {
   "codemirror_mode": {
    "name": "ipython",
    "version": 3
   },
   "file_extension": ".py",
   "mimetype": "text/x-python",
   "name": "python",
   "nbconvert_exporter": "python",
   "pygments_lexer": "ipython3",
   "version": "3.7.1"
  }
 },
 "nbformat": 4,
 "nbformat_minor": 2
}
