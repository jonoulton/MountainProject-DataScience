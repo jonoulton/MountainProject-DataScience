{
 "cells": [
  {
   "cell_type": "markdown",
   "metadata": {},
   "source": [
    "# Convert Votes to People"
   ]
  },
  {
   "cell_type": "markdown",
   "metadata": {},
   "source": [
    "## Turn the votes page into a picked file of people with their:\n",
    "### 1) Star Votes\n",
    "### 2) Difficulty Ratings\n",
    "### 3) Route Ticks\n",
    "### 4) ToDo List"
   ]
  },
  {
   "cell_type": "code",
   "execution_count": 6,
   "metadata": {},
   "outputs": [],
   "source": [
    "import pandas as pd\n",
    "import pickle"
   ]
  },
  {
   "cell_type": "markdown",
   "metadata": {},
   "source": [
    "***\n",
    "### Step 1: Import the Pickled Votes dataframe object"
   ]
  },
  {
   "cell_type": "code",
   "execution_count": 7,
   "metadata": {},
   "outputs": [],
   "source": [
    "def import_votes(filepath):\n",
    "    votes = pd.read_pickle(filepath)\n",
    "    return votes"
   ]
  },
  {
   "cell_type": "markdown",
   "metadata": {},
   "source": [
    "### Step 2: Create a dictionary for people\n",
    "\n",
    "#### Structure is as follows:\n",
    "person: {starVotes: [climbUrl, vote],\n",
    "\n",
    "         diffRatings: [climbUrl, vote],\n",
    "           \n",
    "         routeTicks: [{climbUrl: tickInfo}],\n",
    "           \n",
    "         toDoList: [climbUrl] }\n",
    "           "
   ]
  },
  {
   "cell_type": "code",
   "execution_count": 12,
   "metadata": {
    "scrolled": true
   },
   "outputs": [],
   "source": [
    "def make_users(votes):\n",
    "    # Initialize a dictionary for people\n",
    "    people = {}\n",
    "\n",
    "    # Get the star ratings\n",
    "    for i in range(len(votes['starRatings'])):\n",
    "        try:\n",
    "            for user in votes['starRatings'][i]:\n",
    "                # If user not in dictionary, add them\n",
    "                if user[0] not in people:\n",
    "                    people[user[0]] = {}\n",
    "                    people[user[0]]['starRatings'] = {}\n",
    "                    people[user[0]]['diffRatings'] = {}\n",
    "                    people[user[0]]['ticks'] = {}\n",
    "                    people[user[0]]['toDoList'] = []\n",
    "                # Add the star rating to their dictionary\n",
    "                people[user[0]]['starRatings'][votes.index[i]]=user[1]\n",
    "        except:\n",
    "            continue\n",
    "            \n",
    "    # Get the diffRatings\n",
    "    for i in range(len(votes['difficultyRatings'])):\n",
    "#         try:\n",
    "        for user in votes['difficultyRatings'][i]:\n",
    "            # If user not in dictionary, add them\n",
    "            if user[0] not in people:\n",
    "                people[user[0]] = {}\n",
    "                people[user[0]]['starRatings'] = {}\n",
    "                people[user[0]]['diffRatings'] = {}\n",
    "                people[user[0]]['ticks'] = {}\n",
    "                people[user[0]]['toDoList'] = []\n",
    "            # Add the diff rating to their dictionary\n",
    "            people[user[0]]['diffRatings'][votes.index[i]]=user[1]\n",
    "#         except:\n",
    "#             continue\n",
    "            \n",
    "    # Get the Ticks\n",
    "    for i in range(len(votes['ticks'])):\n",
    "        try:\n",
    "            for user in votes['ticks'][i]['tickList']:\n",
    "                # If user not in dictionary, add them\n",
    "                if user not in people:\n",
    "                    people[user] = {}\n",
    "                    people[user]['starRatings'] = {}\n",
    "                    people[user]['diffRatings'] = {}\n",
    "                    people[user]['ticks'] = {}\n",
    "                    people[user]['toDoList'] = []\n",
    "                # Add the tick to their dictionary\n",
    "                # Case: First instance of the user doing the route is being recorded\n",
    "                if votes.index[i] in people[user]['ticks']:\n",
    "                    people[user]['ticks'][votes.index[i]][0] = people[user]['ticks'][votes.index[i]][0]+1\n",
    "                    people[user]['ticks'][votes.index[i]].append(votes['ticks'][i]['tickList'][user])\n",
    "                # Case: Non-First instance of user ticking route is being recorded\n",
    "                if votes.index[i] not in people[user]['ticks']:\n",
    "                    people[user]['ticks'][votes.index[i]]=[1, votes['ticks'][i]['tickList'][user]]\n",
    "        except:\n",
    "            continue\n",
    "            \n",
    "    # Get the toDoLists\n",
    "    for i in range(len(votes['toDoList'])):\n",
    "        try:\n",
    "            for user in votes['toDoList'][i].keys():\n",
    "                # If user not in dictionary, add them\n",
    "                if user not in people:\n",
    "                    people[user] = {}\n",
    "                    people[user]['starRatings'] = {}\n",
    "                    people[user]['diffRatings'] = {}\n",
    "                    people[user]['ticks'] = {}\n",
    "                    people[user]['toDoList'] = []\n",
    "                # Add the diff rating to their dictionary\n",
    "                people[user]['toDoList'].append(votes.index[i])\n",
    "        except:\n",
    "            continue\n",
    "            \n",
    "\n",
    "    \n",
    "    # Return the dictionary of people\n",
    "    return people"
   ]
  },
  {
   "cell_type": "markdown",
   "metadata": {},
   "source": [
    "# Convert (Python Dict) => (Pandas Dataframe)"
   ]
  },
  {
   "cell_type": "code",
   "execution_count": 13,
   "metadata": {},
   "outputs": [],
   "source": [
    "def convert_people_to_dataframe(people):\n",
    "    peopleDF = pd.DataFrame.from_dict(people, orient='index')\n",
    "    # Get the number of star ratings\n",
    "    peopleDF['numStarRatings']=[len(people.iloc[i]['starRatings']) for i in range(len(people))]\n",
    "    return peopleDF"
   ]
  },
  {
   "cell_type": "markdown",
   "metadata": {},
   "source": [
    "# Save \"People Dataframe\" as a pickled object"
   ]
  },
  {
   "cell_type": "code",
   "execution_count": 10,
   "metadata": {},
   "outputs": [],
   "source": [
    "def save_people_dataframe(people, destPath):\n",
    "    people.to_pickle(destPath)"
   ]
  },
  {
   "cell_type": "markdown",
   "metadata": {},
   "source": [
    "# Package into one function"
   ]
  },
  {
   "cell_type": "code",
   "execution_count": 14,
   "metadata": {},
   "outputs": [
    {
     "ename": "AttributeError",
     "evalue": "'dict' object has no attribute 'iloc'",
     "output_type": "error",
     "traceback": [
      "\u001b[0;31m---------------------------------------------------------------------------\u001b[0m",
      "\u001b[0;31mAttributeError\u001b[0m                            Traceback (most recent call last)",
      "\u001b[0;32m<ipython-input-14-784cf8b255bd>\u001b[0m in \u001b[0;36m<module>\u001b[0;34m\u001b[0m\n\u001b[1;32m      7\u001b[0m \u001b[0mfilepath\u001b[0m \u001b[0;34m=\u001b[0m \u001b[0;34m'./Data/pickledVotes_unpacked'\u001b[0m\u001b[0;34m\u001b[0m\u001b[0;34m\u001b[0m\u001b[0m\n\u001b[1;32m      8\u001b[0m \u001b[0mdestPath\u001b[0m \u001b[0;34m=\u001b[0m \u001b[0;34m'./Data/pickledPeople'\u001b[0m\u001b[0;34m\u001b[0m\u001b[0;34m\u001b[0m\u001b[0m\n\u001b[0;32m----> 9\u001b[0;31m \u001b[0mmake_people_from_votes\u001b[0m\u001b[0;34m(\u001b[0m\u001b[0mfilepath\u001b[0m\u001b[0;34m,\u001b[0m \u001b[0mdestPath\u001b[0m\u001b[0;34m)\u001b[0m\u001b[0;34m\u001b[0m\u001b[0;34m\u001b[0m\u001b[0m\n\u001b[0m",
      "\u001b[0;32m<ipython-input-14-784cf8b255bd>\u001b[0m in \u001b[0;36mmake_people_from_votes\u001b[0;34m(votes_filepath, people_destPath)\u001b[0m\n\u001b[1;32m      2\u001b[0m     \u001b[0mvotes\u001b[0m \u001b[0;34m=\u001b[0m \u001b[0mimport_votes\u001b[0m\u001b[0;34m(\u001b[0m\u001b[0mvotes_filepath\u001b[0m\u001b[0;34m)\u001b[0m\u001b[0;34m\u001b[0m\u001b[0;34m\u001b[0m\u001b[0m\n\u001b[1;32m      3\u001b[0m     \u001b[0mpeople\u001b[0m \u001b[0;34m=\u001b[0m \u001b[0mmake_users\u001b[0m\u001b[0;34m(\u001b[0m\u001b[0mvotes\u001b[0m\u001b[0;34m)\u001b[0m\u001b[0;34m\u001b[0m\u001b[0;34m\u001b[0m\u001b[0m\n\u001b[0;32m----> 4\u001b[0;31m     \u001b[0mpeople\u001b[0m \u001b[0;34m=\u001b[0m \u001b[0mconvert_people_to_dataframe\u001b[0m\u001b[0;34m(\u001b[0m\u001b[0mpeople\u001b[0m\u001b[0;34m)\u001b[0m\u001b[0;34m\u001b[0m\u001b[0;34m\u001b[0m\u001b[0m\n\u001b[0m\u001b[1;32m      5\u001b[0m     \u001b[0msave_people_dataframe\u001b[0m\u001b[0;34m(\u001b[0m\u001b[0mpeople\u001b[0m\u001b[0;34m,\u001b[0m \u001b[0mpeople_destPath\u001b[0m\u001b[0;34m)\u001b[0m\u001b[0;34m\u001b[0m\u001b[0;34m\u001b[0m\u001b[0m\n\u001b[1;32m      6\u001b[0m \u001b[0;34m\u001b[0m\u001b[0m\n",
      "\u001b[0;32m<ipython-input-13-b45d49866417>\u001b[0m in \u001b[0;36mconvert_people_to_dataframe\u001b[0;34m(people)\u001b[0m\n\u001b[1;32m      2\u001b[0m     \u001b[0mpeopleDF\u001b[0m \u001b[0;34m=\u001b[0m \u001b[0mpd\u001b[0m\u001b[0;34m.\u001b[0m\u001b[0mDataFrame\u001b[0m\u001b[0;34m.\u001b[0m\u001b[0mfrom_dict\u001b[0m\u001b[0;34m(\u001b[0m\u001b[0mpeople\u001b[0m\u001b[0;34m,\u001b[0m \u001b[0morient\u001b[0m\u001b[0;34m=\u001b[0m\u001b[0;34m'index'\u001b[0m\u001b[0;34m)\u001b[0m\u001b[0;34m\u001b[0m\u001b[0;34m\u001b[0m\u001b[0m\n\u001b[1;32m      3\u001b[0m     \u001b[0;31m# Get the number of star ratings\u001b[0m\u001b[0;34m\u001b[0m\u001b[0;34m\u001b[0m\u001b[0;34m\u001b[0m\u001b[0m\n\u001b[0;32m----> 4\u001b[0;31m     \u001b[0mpeople\u001b[0m\u001b[0;34m[\u001b[0m\u001b[0;34m'numStarRatings'\u001b[0m\u001b[0;34m]\u001b[0m\u001b[0;34m=\u001b[0m\u001b[0;34m[\u001b[0m\u001b[0mlen\u001b[0m\u001b[0;34m(\u001b[0m\u001b[0mpeople\u001b[0m\u001b[0;34m.\u001b[0m\u001b[0miloc\u001b[0m\u001b[0;34m[\u001b[0m\u001b[0mi\u001b[0m\u001b[0;34m]\u001b[0m\u001b[0;34m[\u001b[0m\u001b[0;34m'starRatings'\u001b[0m\u001b[0;34m]\u001b[0m\u001b[0;34m)\u001b[0m \u001b[0;32mfor\u001b[0m \u001b[0mi\u001b[0m \u001b[0;32min\u001b[0m \u001b[0mrange\u001b[0m\u001b[0;34m(\u001b[0m\u001b[0mlen\u001b[0m\u001b[0;34m(\u001b[0m\u001b[0mpeople\u001b[0m\u001b[0;34m)\u001b[0m\u001b[0;34m)\u001b[0m\u001b[0;34m]\u001b[0m\u001b[0;34m\u001b[0m\u001b[0;34m\u001b[0m\u001b[0m\n\u001b[0m\u001b[1;32m      5\u001b[0m     \u001b[0;32mreturn\u001b[0m \u001b[0mpeopleDF\u001b[0m\u001b[0;34m\u001b[0m\u001b[0;34m\u001b[0m\u001b[0m\n",
      "\u001b[0;32m<ipython-input-13-b45d49866417>\u001b[0m in \u001b[0;36m<listcomp>\u001b[0;34m(.0)\u001b[0m\n\u001b[1;32m      2\u001b[0m     \u001b[0mpeopleDF\u001b[0m \u001b[0;34m=\u001b[0m \u001b[0mpd\u001b[0m\u001b[0;34m.\u001b[0m\u001b[0mDataFrame\u001b[0m\u001b[0;34m.\u001b[0m\u001b[0mfrom_dict\u001b[0m\u001b[0;34m(\u001b[0m\u001b[0mpeople\u001b[0m\u001b[0;34m,\u001b[0m \u001b[0morient\u001b[0m\u001b[0;34m=\u001b[0m\u001b[0;34m'index'\u001b[0m\u001b[0;34m)\u001b[0m\u001b[0;34m\u001b[0m\u001b[0;34m\u001b[0m\u001b[0m\n\u001b[1;32m      3\u001b[0m     \u001b[0;31m# Get the number of star ratings\u001b[0m\u001b[0;34m\u001b[0m\u001b[0;34m\u001b[0m\u001b[0;34m\u001b[0m\u001b[0m\n\u001b[0;32m----> 4\u001b[0;31m     \u001b[0mpeople\u001b[0m\u001b[0;34m[\u001b[0m\u001b[0;34m'numStarRatings'\u001b[0m\u001b[0;34m]\u001b[0m\u001b[0;34m=\u001b[0m\u001b[0;34m[\u001b[0m\u001b[0mlen\u001b[0m\u001b[0;34m(\u001b[0m\u001b[0mpeople\u001b[0m\u001b[0;34m.\u001b[0m\u001b[0miloc\u001b[0m\u001b[0;34m[\u001b[0m\u001b[0mi\u001b[0m\u001b[0;34m]\u001b[0m\u001b[0;34m[\u001b[0m\u001b[0;34m'starRatings'\u001b[0m\u001b[0;34m]\u001b[0m\u001b[0;34m)\u001b[0m \u001b[0;32mfor\u001b[0m \u001b[0mi\u001b[0m \u001b[0;32min\u001b[0m \u001b[0mrange\u001b[0m\u001b[0;34m(\u001b[0m\u001b[0mlen\u001b[0m\u001b[0;34m(\u001b[0m\u001b[0mpeople\u001b[0m\u001b[0;34m)\u001b[0m\u001b[0;34m)\u001b[0m\u001b[0;34m]\u001b[0m\u001b[0;34m\u001b[0m\u001b[0;34m\u001b[0m\u001b[0m\n\u001b[0m\u001b[1;32m      5\u001b[0m     \u001b[0;32mreturn\u001b[0m \u001b[0mpeopleDF\u001b[0m\u001b[0;34m\u001b[0m\u001b[0;34m\u001b[0m\u001b[0m\n",
      "\u001b[0;31mAttributeError\u001b[0m: 'dict' object has no attribute 'iloc'"
     ]
    }
   ],
   "source": [
    "def make_people_from_votes(votes_filepath, people_destPath):\n",
    "    votes = import_votes(votes_filepath)\n",
    "    people = make_users(votes)\n",
    "    people = convert_people_to_dataframe(people)\n",
    "    save_people_dataframe(people, people_destPath)\n",
    "    \n",
    "filepath = './Data/pickledVotes_unpacked'\n",
    "destPath = './Data/pickledPeople'\n",
    "make_people_from_votes(filepath, destPath)"
   ]
  },
  {
   "cell_type": "code",
   "execution_count": null,
   "metadata": {},
   "outputs": [],
   "source": []
  }
 ],
 "metadata": {
  "kernelspec": {
   "display_name": "Python 3",
   "language": "python",
   "name": "python3"
  },
  "language_info": {
   "codemirror_mode": {
    "name": "ipython",
    "version": 3
   },
   "file_extension": ".py",
   "mimetype": "text/x-python",
   "name": "python",
   "nbconvert_exporter": "python",
   "pygments_lexer": "ipython3",
   "version": "3.7.1"
  }
 },
 "nbformat": 4,
 "nbformat_minor": 2
}
