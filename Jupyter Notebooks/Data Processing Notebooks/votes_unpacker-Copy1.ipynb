{
 "cells": [
  {
   "cell_type": "markdown",
   "metadata": {},
   "source": [
    "# Unpacking Original VotePageInfo.json File\n",
    "\n",
    "## This python notebook packages a series of steps into one function, which results in a new pickled Dataframe object file being generated with the unpacked json data\n",
    "\n",
    "## The final helper function has 3 internal steps:\n",
    "\n",
    "### 1) Import the JSON file into a Pandas notebook\n",
    "### 2) Unpack the nested JSON objects into indivdual dataframe columns, and delete the old, nested columns\n",
    "### 3) Save the new pickled file (which is easier to import and work with)"
   ]
  },
  {
   "cell_type": "code",
   "execution_count": 1,
   "metadata": {},
   "outputs": [],
   "source": [
    "import pandas as pd\n",
    "import json\n",
    "import pickle"
   ]
  },
  {
   "cell_type": "markdown",
   "metadata": {},
   "source": [
    "## 1) Import the Routes Json File"
   ]
  },
  {
   "cell_type": "code",
   "execution_count": 56,
   "metadata": {},
   "outputs": [],
   "source": [
    "def import_json_file(filepath):\n",
    "    # Import file into pandas dataframe\n",
    "    with open(filepath) as file:\n",
    "        reader = file.read()\n",
    "        votesDict = dict(json.loads(reader))\n",
    "        votes = pd.DataFrame.from_dict(votesDict, orient='index')\n",
    "    return votes"
   ]
  },
  {
   "cell_type": "markdown",
   "metadata": {},
   "source": [
    "### Functions to extract Data"
   ]
  },
  {
   "cell_type": "code",
   "execution_count": 57,
   "metadata": {},
   "outputs": [],
   "source": [
    "# Extract the user star votes and return a list of lists with format\"\n",
    "# [ ['userUrl_1_climb1', 'User_1_Vote_climb1'], ['userUrl_2_climb1', 'User_2_Vote_climb1'], ...]\n",
    "def get_user_star_votes(votes_dataframe):\n",
    "    votes_dataframe['userStarVotes'] = [votes_dataframe['starRatings'][item]['ratings'] for item in range(len(votes_dataframe['starRatings']))]\n",
    "    userStarVotes = []\n",
    "    it = iter(votes_dataframe)\n",
    "    for i in it:\n",
    "        print(i)\n",
    "    for vote in votes_dataframe.userStarVotes:\n",
    "        climbVotes = []\n",
    "        try:\n",
    "            for item in vote:\n",
    "                climbVotes.append([item, vote[item]['rating']])\n",
    "            userStarVotes.append(climbVotes)\n",
    "        except:\n",
    "            userStarVotes.append(None)\n",
    "    votes_dataframe.drop(['userStarVotes'], axis=1)\n",
    "\n",
    "    return userStarVotes\n",
    "\n",
    "# Extract the difficulty ratings and return a list of lists\n",
    "def get_difficulty_ratings(votes_dataframe):\n",
    "    votes_dataframe['diffRatings'] = [votes_dataframe['difficultyRatings'][item]['ratings'] for item in range(len(votes_dataframe['difficultyRatings']))]\n",
    "    difficultyRatings = []\n",
    "    for vote in votes_dataframe.diffRatings:\n",
    "        climbVotes = []\n",
    "        try:\n",
    "            for item in vote:\n",
    "                climbVotes.append([item, vote[item]['rating']])\n",
    "            difficultyRatings.append(climbVotes)\n",
    "        except:\n",
    "            difficultyRatings.append(climbVotes)\n",
    "    \n",
    "    return difficultyRatings\n",
    "\n",
    "# Extract a route's ticks as a list of dictionaries. Each list member is one dictionary\n",
    "def get_ticks(votes_dataframe):\n",
    "    votes_dataframe['ticks'] = [votes_dataframe['ticks'][item] for item in range(len(votes_dataframe['ticks']))]\n",
    "    ticks = []\n",
    "    for route in votes_dataframe['ticks']:\n",
    "        ticks.append(route)\n",
    "    return ticks\n",
    "            \n",
    "# Extract a route's ticks as a list of dictionaries. Each list member is one dictionary\n",
    "def get_toDo_list(votes_dataframe):\n",
    "    votes_dataframe['toDoList'] = [votes_dataframe['toDoList'][item] for item in range(len(votes_dataframe['toDoList']))]\n",
    "    toDoList = []\n",
    "    for route in votes_dataframe['toDoList']:\n",
    "        toDoList.append(route['users'])\n",
    "    return toDoList\n",
    "\n",
    "# Get the number of items in each field, and save as a new field\n",
    "def add_count_column(votes, newColumnName, fieldToCount):\n",
    "    countColumn = []\n",
    "    for item in range(len(votes)):\n",
    "        try:\n",
    "            countColumn.append(len(votes[fieldToCount][item]))\n",
    "        except:\n",
    "            countColumn.append(0)\n",
    "    votes[newColumnName] = countColumn\n",
    "        \n",
    "    return votes\n",
    "\n",
    "# Get the list of people who voted. Currently only works for star votes\n",
    "def add_list_of_voters(votes, newColumnName, fieldToScan):\n",
    "    users = []\n",
    "    for item in range(len(votes)):\n",
    "        try:\n",
    "            specificRoute = []\n",
    "            for user in range(len(votes[fieldToScan][item])):\n",
    "                specificRoute.append(votes[fieldToScan][item][user][0])\n",
    "            users.append(specificRoute)\n",
    "        except:\n",
    "            users.append(0)\n",
    "    votes[newColumnName] = users\n",
    "    return votes"
   ]
  },
  {
   "cell_type": "markdown",
   "metadata": {},
   "source": [
    "## 2) Unpack nested JSON objects"
   ]
  },
  {
   "cell_type": "code",
   "execution_count": 58,
   "metadata": {},
   "outputs": [],
   "source": [
    "# Get the data\n",
    "def unpack_data(votes):\n",
    "    votes['starRatings'] = get_user_star_votes(votes)\n",
    "    votes['diffRatings'] = get_difficulty_ratings(votes)\n",
    "    votes['ticks'] = get_ticks(votes)\n",
    "    votes['toDoList'] = get_toDo_list(votes)\n",
    "    votes.drop(columns=['userStarVotes', 'diffRatings'], axis=1, inplace=True)\n",
    "    votes = add_count_column(votes, 'starRatingCount', 'starRatings')\n",
    "    votes = add_list_of_voters(votes, 'starRatingUsers', 'starRatings')\n",
    "    return votes"
   ]
  },
  {
   "cell_type": "markdown",
   "metadata": {},
   "source": [
    "## 3) Save new file with unpacked JSON objects as individual columns"
   ]
  },
  {
   "cell_type": "code",
   "execution_count": 59,
   "metadata": {},
   "outputs": [],
   "source": [
    "# Save the newly unpacked votes file\n",
    "def save_vote_dataframe(votes_dataframe, destPath):\n",
    "    votes_dataframe.to_pickle(destPath)"
   ]
  },
  {
   "cell_type": "markdown",
   "metadata": {},
   "source": [
    "## 4) Package into a helper function to do 1, 2 and 3 in one step"
   ]
  },
  {
   "cell_type": "code",
   "execution_count": 60,
   "metadata": {},
   "outputs": [
    {
     "name": "stdout",
     "output_type": "stream",
     "text": [
      "name\n",
      "starRatings\n",
      "difficultyRatings\n",
      "toDoList\n",
      "ticks\n",
      "userStarVotes\n"
     ]
    }
   ],
   "source": [
    "def unpack_votes(filepath, destPath):\n",
    "    votes = import_json_file(filepath)\n",
    "    votes = unpack_data(votes)\n",
    "    save_vote_dataframe(votes, destPath)\n",
    "\n",
    "filepath = './Data/votePageData.json'\n",
    "destPath = './Data/pickledVotes_unpacked'"
   ]
  },
  {
   "cell_type": "code",
   "execution_count": 61,
   "metadata": {},
   "outputs": [
    {
     "name": "stdout",
     "output_type": "stream",
     "text": [
      "name\n",
      "starRatings\n",
      "difficultyRatings\n",
      "toDoList\n",
      "ticks\n",
      "userStarVotes\n"
     ]
    }
   ],
   "source": [
    "votes = import_json_file(filepath)\n",
    "votes = unpack_data(votes)"
   ]
  },
  {
   "cell_type": "markdown",
   "metadata": {},
   "source": [
    "# Development Code is Below"
   ]
  },
  {
   "cell_type": "code",
   "execution_count": 8,
   "metadata": {},
   "outputs": [
    {
     "data": {
      "text/html": [
       "<div>\n",
       "<style scoped>\n",
       "    .dataframe tbody tr th:only-of-type {\n",
       "        vertical-align: middle;\n",
       "    }\n",
       "\n",
       "    .dataframe tbody tr th {\n",
       "        vertical-align: top;\n",
       "    }\n",
       "\n",
       "    .dataframe thead th {\n",
       "        text-align: right;\n",
       "    }\n",
       "</style>\n",
       "<table border=\"1\" class=\"dataframe\">\n",
       "  <thead>\n",
       "    <tr style=\"text-align: right;\">\n",
       "      <th></th>\n",
       "      <th>name</th>\n",
       "      <th>starRatings</th>\n",
       "      <th>difficultyRatings</th>\n",
       "      <th>toDoList</th>\n",
       "      <th>ticks</th>\n",
       "    </tr>\n",
       "  </thead>\n",
       "  <tbody>\n",
       "    <tr>\n",
       "      <th>https://www.mountainproject.com/route/105714687/bridalveil-falls-right-side</th>\n",
       "      <td>Side</td>\n",
       "      <td>[[https://www.mountainproject.com/user/13248/j...</td>\n",
       "      <td>[[https://www.mountainproject.com/user/1062091...</td>\n",
       "      <td>{'https://www.mountainproject.com/user/13914/t...</td>\n",
       "      <td>{'quantity': '13', 'tickList': {'https://www.m...</td>\n",
       "    </tr>\n",
       "    <tr>\n",
       "      <th>https://www.mountainproject.com/route/105714691/honey-bear-main-flow</th>\n",
       "      <td>Flow</td>\n",
       "      <td>[[https://www.mountainproject.com/user/1063883...</td>\n",
       "      <td>[[https://www.mountainproject.com/user/1063883...</td>\n",
       "      <td>{'https://www.mountainproject.com/user/1062091...</td>\n",
       "      <td>{'quantity': '6', 'tickList': {'https://www.mo...</td>\n",
       "    </tr>\n",
       "    <tr>\n",
       "      <th>https://www.mountainproject.com/route/105714695/terminator-pillar</th>\n",
       "      <td>Pillar</td>\n",
       "      <td>[[https://www.mountainproject.com/user/1076300...</td>\n",
       "      <td>[[https://www.mountainproject.com/user/1063546...</td>\n",
       "      <td>{'https://www.mountainproject.com/user/13914/t...</td>\n",
       "      <td>{'quantity': '7', 'tickList': {'https://www.mo...</td>\n",
       "    </tr>\n",
       "    <tr>\n",
       "      <th>https://www.mountainproject.com/route/105714699/11th-hour-center</th>\n",
       "      <td>Center</td>\n",
       "      <td>[[https://www.mountainproject.com/user/1066034...</td>\n",
       "      <td>[[https://www.mountainproject.com/user/1063546...</td>\n",
       "      <td>{'https://www.mountainproject.com/user/13914/t...</td>\n",
       "      <td>{'quantity': '10', 'tickList': {'https://www.m...</td>\n",
       "    </tr>\n",
       "    <tr>\n",
       "      <th>https://www.mountainproject.com/route/105714703/gorillas-in-the-schist</th>\n",
       "      <td>Schist</td>\n",
       "      <td>[[https://www.mountainproject.com/user/1058628...</td>\n",
       "      <td>[]</td>\n",
       "      <td>None</td>\n",
       "      <td>{'quantity': None, 'tickList': None}</td>\n",
       "    </tr>\n",
       "  </tbody>\n",
       "</table>\n",
       "</div>"
      ],
      "text/plain": [
       "                                                      name  \\\n",
       "https://www.mountainproject.com/route/105714687...    Side   \n",
       "https://www.mountainproject.com/route/105714691...    Flow   \n",
       "https://www.mountainproject.com/route/105714695...  Pillar   \n",
       "https://www.mountainproject.com/route/105714699...  Center   \n",
       "https://www.mountainproject.com/route/105714703...  Schist   \n",
       "\n",
       "                                                                                          starRatings  \\\n",
       "https://www.mountainproject.com/route/105714687...  [[https://www.mountainproject.com/user/13248/j...   \n",
       "https://www.mountainproject.com/route/105714691...  [[https://www.mountainproject.com/user/1063883...   \n",
       "https://www.mountainproject.com/route/105714695...  [[https://www.mountainproject.com/user/1076300...   \n",
       "https://www.mountainproject.com/route/105714699...  [[https://www.mountainproject.com/user/1066034...   \n",
       "https://www.mountainproject.com/route/105714703...  [[https://www.mountainproject.com/user/1058628...   \n",
       "\n",
       "                                                                                    difficultyRatings  \\\n",
       "https://www.mountainproject.com/route/105714687...  [[https://www.mountainproject.com/user/1062091...   \n",
       "https://www.mountainproject.com/route/105714691...  [[https://www.mountainproject.com/user/1063883...   \n",
       "https://www.mountainproject.com/route/105714695...  [[https://www.mountainproject.com/user/1063546...   \n",
       "https://www.mountainproject.com/route/105714699...  [[https://www.mountainproject.com/user/1063546...   \n",
       "https://www.mountainproject.com/route/105714703...                                                 []   \n",
       "\n",
       "                                                                                             toDoList  \\\n",
       "https://www.mountainproject.com/route/105714687...  {'https://www.mountainproject.com/user/13914/t...   \n",
       "https://www.mountainproject.com/route/105714691...  {'https://www.mountainproject.com/user/1062091...   \n",
       "https://www.mountainproject.com/route/105714695...  {'https://www.mountainproject.com/user/13914/t...   \n",
       "https://www.mountainproject.com/route/105714699...  {'https://www.mountainproject.com/user/13914/t...   \n",
       "https://www.mountainproject.com/route/105714703...                                               None   \n",
       "\n",
       "                                                                                                ticks  \n",
       "https://www.mountainproject.com/route/105714687...  {'quantity': '13', 'tickList': {'https://www.m...  \n",
       "https://www.mountainproject.com/route/105714691...  {'quantity': '6', 'tickList': {'https://www.mo...  \n",
       "https://www.mountainproject.com/route/105714695...  {'quantity': '7', 'tickList': {'https://www.mo...  \n",
       "https://www.mountainproject.com/route/105714699...  {'quantity': '10', 'tickList': {'https://www.m...  \n",
       "https://www.mountainproject.com/route/105714703...               {'quantity': None, 'tickList': None}  "
      ]
     },
     "execution_count": 8,
     "metadata": {},
     "output_type": "execute_result"
    }
   ],
   "source": [
    "votes.head(5)"
   ]
  },
  {
   "cell_type": "code",
   "execution_count": 52,
   "metadata": {},
   "outputs": [],
   "source": [
    "# Add column to votes DF for # of ratings/diffRatings/To-Do Lists/Ticks\n",
    "# try:\n",
    "#     votes['numStarRatings'] = [len(votes['starRatings'][item]) for item in range(len(votes))]\n",
    "# except:\n",
    "#     pass\n",
    "# try:\n",
    "#     votes['numDiffRatings'] = [len(votes['difficultyRatings'][item]) for item in range(len(votes))]\n",
    "# except:\n",
    "#     pass\n",
    "# try:\n",
    "#     votes['numToDoLists'] = [len(votes['toDoList'][item]) for item in range(len(votes))]\n",
    "# except:\n",
    "#     pass\n",
    "# try:\n",
    "#     votes['numTicks'] = [len(votes['ticks'][item]) for item in range(len(votes))]\n",
    "# except:\n",
    "#     pass\n",
    "    \n",
    "# Add column to votes DF for all users who voted/toDoList/etc'\n",
    "\n"
   ]
  },
  {
   "cell_type": "code",
   "execution_count": 19,
   "metadata": {},
   "outputs": [
    {
     "name": "stdout",
     "output_type": "stream",
     "text": [
      "188534\n",
      "188534\n",
      "188534\n",
      "188534\n",
      "188534\n",
      "188534\n",
      "188534\n",
      "188534\n"
     ]
    }
   ],
   "source": [
    "votes = add_count_column(votes, 'starRatingCount', 'starRatings')\n",
    "votes = add_count_column(votes, 'diffRatingCount', 'difficultyRating')\n",
    "votes = add_count_column(votes, 'toDoListCount', 'toDoList')\n",
    "votes = add_count_column(votes, 'ticksCount', 'ticks')"
   ]
  },
  {
   "cell_type": "code",
   "execution_count": 53,
   "metadata": {},
   "outputs": [],
   "source": [
    "votes = add_list_of_voters(votes, 'starRatingUsers', 'starRatings')"
   ]
  },
  {
   "cell_type": "code",
   "execution_count": 54,
   "metadata": {},
   "outputs": [
    {
     "data": {
      "text/plain": [
       "['https://www.mountainproject.com/user/13248/john-gunnels',\n",
       " 'https://www.mountainproject.com/user/10246/andrew-gram',\n",
       " 'https://www.mountainproject.com/user/106209198/markus-jobman',\n",
       " 'https://www.mountainproject.com/user/107630068/clay-cundy',\n",
       " 'https://www.mountainproject.com/user/107048400/mike-vetter']"
      ]
     },
     "execution_count": 54,
     "metadata": {},
     "output_type": "execute_result"
    }
   ],
   "source": [
    "votes.iloc[0]['starRatingUsers']"
   ]
  },
  {
   "cell_type": "code",
   "execution_count": 55,
   "metadata": {},
   "outputs": [
    {
     "data": {
      "text/plain": [
       "name                                                            Schist\n",
       "starRatings          [[https://www.mountainproject.com/user/1058628...\n",
       "difficultyRatings                     {'quantity': '2', 'ratings': {}}\n",
       "toDoList                                                          None\n",
       "ticks                             {'quantity': None, 'tickList': None}\n",
       "starRatingCount                                                      2\n",
       "diffRatingCount                                                      0\n",
       "toDoListCount                                                        0\n",
       "ticksCount                                                           2\n",
       "starRatingUsers      [https://www.mountainproject.com/user/10586283...\n",
       "Name: https://www.mountainproject.com/route/105714703/gorillas-in-the-schist, dtype: object"
      ]
     },
     "execution_count": 55,
     "metadata": {},
     "output_type": "execute_result"
    }
   ],
   "source": [
    "votes.loc['https://www.mountainproject.com/route/105714703/gorillas-in-the-schist']"
   ]
  },
  {
   "cell_type": "code",
   "execution_count": 51,
   "metadata": {},
   "outputs": [
    {
     "data": {
      "text/html": [
       "<div>\n",
       "<style scoped>\n",
       "    .dataframe tbody tr th:only-of-type {\n",
       "        vertical-align: middle;\n",
       "    }\n",
       "\n",
       "    .dataframe tbody tr th {\n",
       "        vertical-align: top;\n",
       "    }\n",
       "\n",
       "    .dataframe thead th {\n",
       "        text-align: right;\n",
       "    }\n",
       "</style>\n",
       "<table border=\"1\" class=\"dataframe\">\n",
       "  <thead>\n",
       "    <tr style=\"text-align: right;\">\n",
       "      <th></th>\n",
       "      <th>name</th>\n",
       "      <th>starRatings</th>\n",
       "      <th>difficultyRatings</th>\n",
       "      <th>toDoList</th>\n",
       "      <th>ticks</th>\n",
       "      <th>starRatingCount</th>\n",
       "      <th>diffRatingCount</th>\n",
       "      <th>toDoListCount</th>\n",
       "      <th>ticksCount</th>\n",
       "      <th>starRatingUsers</th>\n",
       "    </tr>\n",
       "  </thead>\n",
       "  <tbody>\n",
       "    <tr>\n",
       "      <th>https://www.mountainproject.com/route/105714687/bridalveil-falls-right-side</th>\n",
       "      <td>Side</td>\n",
       "      <td>[[https://www.mountainproject.com/user/13248/j...</td>\n",
       "      <td>{'quantity': '3', 'ratings': {'https://www.mou...</td>\n",
       "      <td>{'https://www.mountainproject.com/user/13914/t...</td>\n",
       "      <td>{'quantity': '13', 'tickList': {'https://www.m...</td>\n",
       "      <td>5</td>\n",
       "      <td>0</td>\n",
       "      <td>3</td>\n",
       "      <td>2</td>\n",
       "      <td>[[https://www.mountainproject.com/user/13248/j...</td>\n",
       "    </tr>\n",
       "    <tr>\n",
       "      <th>https://www.mountainproject.com/route/105714691/honey-bear-main-flow</th>\n",
       "      <td>Flow</td>\n",
       "      <td>[[https://www.mountainproject.com/user/1063883...</td>\n",
       "      <td>{'quantity': '4', 'ratings': {'https://www.mou...</td>\n",
       "      <td>{'https://www.mountainproject.com/user/1062091...</td>\n",
       "      <td>{'quantity': '6', 'tickList': {'https://www.mo...</td>\n",
       "      <td>6</td>\n",
       "      <td>0</td>\n",
       "      <td>4</td>\n",
       "      <td>2</td>\n",
       "      <td>[[https://www.mountainproject.com/user/13248/j...</td>\n",
       "    </tr>\n",
       "    <tr>\n",
       "      <th>https://www.mountainproject.com/route/105714695/terminator-pillar</th>\n",
       "      <td>Pillar</td>\n",
       "      <td>[[https://www.mountainproject.com/user/1076300...</td>\n",
       "      <td>{'quantity': '4', 'ratings': {'https://www.mou...</td>\n",
       "      <td>{'https://www.mountainproject.com/user/13914/t...</td>\n",
       "      <td>{'quantity': '7', 'tickList': {'https://www.mo...</td>\n",
       "      <td>6</td>\n",
       "      <td>0</td>\n",
       "      <td>6</td>\n",
       "      <td>2</td>\n",
       "      <td>[[https://www.mountainproject.com/user/13248/j...</td>\n",
       "    </tr>\n",
       "    <tr>\n",
       "      <th>https://www.mountainproject.com/route/105714699/11th-hour-center</th>\n",
       "      <td>Center</td>\n",
       "      <td>[[https://www.mountainproject.com/user/1066034...</td>\n",
       "      <td>{'quantity': '6', 'ratings': {'https://www.mou...</td>\n",
       "      <td>{'https://www.mountainproject.com/user/13914/t...</td>\n",
       "      <td>{'quantity': '10', 'tickList': {'https://www.m...</td>\n",
       "      <td>9</td>\n",
       "      <td>0</td>\n",
       "      <td>3</td>\n",
       "      <td>2</td>\n",
       "      <td>[[https://www.mountainproject.com/user/13248/j...</td>\n",
       "    </tr>\n",
       "    <tr>\n",
       "      <th>https://www.mountainproject.com/route/105714703/gorillas-in-the-schist</th>\n",
       "      <td>Schist</td>\n",
       "      <td>[[https://www.mountainproject.com/user/1058628...</td>\n",
       "      <td>{'quantity': '2', 'ratings': {}}</td>\n",
       "      <td>None</td>\n",
       "      <td>{'quantity': None, 'tickList': None}</td>\n",
       "      <td>2</td>\n",
       "      <td>0</td>\n",
       "      <td>0</td>\n",
       "      <td>2</td>\n",
       "      <td>[[https://www.mountainproject.com/user/13248/j...</td>\n",
       "    </tr>\n",
       "  </tbody>\n",
       "</table>\n",
       "</div>"
      ],
      "text/plain": [
       "                                                      name  \\\n",
       "https://www.mountainproject.com/route/105714687...    Side   \n",
       "https://www.mountainproject.com/route/105714691...    Flow   \n",
       "https://www.mountainproject.com/route/105714695...  Pillar   \n",
       "https://www.mountainproject.com/route/105714699...  Center   \n",
       "https://www.mountainproject.com/route/105714703...  Schist   \n",
       "\n",
       "                                                                                          starRatings  \\\n",
       "https://www.mountainproject.com/route/105714687...  [[https://www.mountainproject.com/user/13248/j...   \n",
       "https://www.mountainproject.com/route/105714691...  [[https://www.mountainproject.com/user/1063883...   \n",
       "https://www.mountainproject.com/route/105714695...  [[https://www.mountainproject.com/user/1076300...   \n",
       "https://www.mountainproject.com/route/105714699...  [[https://www.mountainproject.com/user/1066034...   \n",
       "https://www.mountainproject.com/route/105714703...  [[https://www.mountainproject.com/user/1058628...   \n",
       "\n",
       "                                                                                    difficultyRatings  \\\n",
       "https://www.mountainproject.com/route/105714687...  {'quantity': '3', 'ratings': {'https://www.mou...   \n",
       "https://www.mountainproject.com/route/105714691...  {'quantity': '4', 'ratings': {'https://www.mou...   \n",
       "https://www.mountainproject.com/route/105714695...  {'quantity': '4', 'ratings': {'https://www.mou...   \n",
       "https://www.mountainproject.com/route/105714699...  {'quantity': '6', 'ratings': {'https://www.mou...   \n",
       "https://www.mountainproject.com/route/105714703...                   {'quantity': '2', 'ratings': {}}   \n",
       "\n",
       "                                                                                             toDoList  \\\n",
       "https://www.mountainproject.com/route/105714687...  {'https://www.mountainproject.com/user/13914/t...   \n",
       "https://www.mountainproject.com/route/105714691...  {'https://www.mountainproject.com/user/1062091...   \n",
       "https://www.mountainproject.com/route/105714695...  {'https://www.mountainproject.com/user/13914/t...   \n",
       "https://www.mountainproject.com/route/105714699...  {'https://www.mountainproject.com/user/13914/t...   \n",
       "https://www.mountainproject.com/route/105714703...                                               None   \n",
       "\n",
       "                                                                                                ticks  \\\n",
       "https://www.mountainproject.com/route/105714687...  {'quantity': '13', 'tickList': {'https://www.m...   \n",
       "https://www.mountainproject.com/route/105714691...  {'quantity': '6', 'tickList': {'https://www.mo...   \n",
       "https://www.mountainproject.com/route/105714695...  {'quantity': '7', 'tickList': {'https://www.mo...   \n",
       "https://www.mountainproject.com/route/105714699...  {'quantity': '10', 'tickList': {'https://www.m...   \n",
       "https://www.mountainproject.com/route/105714703...               {'quantity': None, 'tickList': None}   \n",
       "\n",
       "                                                    starRatingCount  \\\n",
       "https://www.mountainproject.com/route/105714687...                5   \n",
       "https://www.mountainproject.com/route/105714691...                6   \n",
       "https://www.mountainproject.com/route/105714695...                6   \n",
       "https://www.mountainproject.com/route/105714699...                9   \n",
       "https://www.mountainproject.com/route/105714703...                2   \n",
       "\n",
       "                                                    diffRatingCount  \\\n",
       "https://www.mountainproject.com/route/105714687...                0   \n",
       "https://www.mountainproject.com/route/105714691...                0   \n",
       "https://www.mountainproject.com/route/105714695...                0   \n",
       "https://www.mountainproject.com/route/105714699...                0   \n",
       "https://www.mountainproject.com/route/105714703...                0   \n",
       "\n",
       "                                                    toDoListCount  ticksCount  \\\n",
       "https://www.mountainproject.com/route/105714687...              3           2   \n",
       "https://www.mountainproject.com/route/105714691...              4           2   \n",
       "https://www.mountainproject.com/route/105714695...              6           2   \n",
       "https://www.mountainproject.com/route/105714699...              3           2   \n",
       "https://www.mountainproject.com/route/105714703...              0           2   \n",
       "\n",
       "                                                                                      starRatingUsers  \n",
       "https://www.mountainproject.com/route/105714687...  [[https://www.mountainproject.com/user/13248/j...  \n",
       "https://www.mountainproject.com/route/105714691...  [[https://www.mountainproject.com/user/13248/j...  \n",
       "https://www.mountainproject.com/route/105714695...  [[https://www.mountainproject.com/user/13248/j...  \n",
       "https://www.mountainproject.com/route/105714699...  [[https://www.mountainproject.com/user/13248/j...  \n",
       "https://www.mountainproject.com/route/105714703...  [[https://www.mountainproject.com/user/13248/j...  "
      ]
     },
     "execution_count": 51,
     "metadata": {},
     "output_type": "execute_result"
    }
   ],
   "source": [
    "votes.head(5)"
   ]
  },
  {
   "cell_type": "code",
   "execution_count": null,
   "metadata": {},
   "outputs": [],
   "source": []
  }
 ],
 "metadata": {
  "kernelspec": {
   "display_name": "Python 3",
   "language": "python",
   "name": "python3"
  },
  "language_info": {
   "codemirror_mode": {
    "name": "ipython",
    "version": 3
   },
   "file_extension": ".py",
   "mimetype": "text/x-python",
   "name": "python",
   "nbconvert_exporter": "python",
   "pygments_lexer": "ipython3",
   "version": "3.7.1"
  }
 },
 "nbformat": 4,
 "nbformat_minor": 2
}
