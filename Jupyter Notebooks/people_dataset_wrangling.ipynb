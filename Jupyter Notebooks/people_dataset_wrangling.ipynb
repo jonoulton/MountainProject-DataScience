{
 "cells": [
  {
   "cell_type": "markdown",
   "metadata": {},
   "source": [
    "# Wrangling with the people dataframe"
   ]
  },
  {
   "cell_type": "code",
   "execution_count": 21,
   "metadata": {},
   "outputs": [],
   "source": [
    "import pandas as pd\n",
    "import numpy as np\n",
    "import math\n",
    "\n",
    "import time # To time how long it takes to compare users"
   ]
  },
  {
   "cell_type": "markdown",
   "metadata": {},
   "source": [
    "# Unpickle the people dataframe"
   ]
  },
  {
   "cell_type": "code",
   "execution_count": 2,
   "metadata": {},
   "outputs": [],
   "source": [
    "filepath = './Data/pickledPeople'\n",
    "\n",
    "people = pd.read_pickle(filepath)"
   ]
  },
  {
   "cell_type": "markdown",
   "metadata": {},
   "source": [
    "# Compare people"
   ]
  },
  {
   "cell_type": "code",
   "execution_count": null,
   "metadata": {
    "scrolled": true
   },
   "outputs": [],
   "source": [
    "# people.head(5)\n",
    "# len(people.loc['https://www.mountainproject.com/user/11029/stefan-griebel']['starRatings'])\n",
    "\n",
    "def compare_persons(userUrl, people):\n",
    "    # Create an index of people from the people dataframe with a rating for that person\n",
    "    index = people.index\n",
    "    relIndex = []\n",
    "    for i in index:\n",
    "        relIndex.append([i, 0])\n",
    "    \n",
    "    # Compare person of interest to others\n",
    "    for otherUser in relIndex:\n",
    "        # Iterate through the climbs in the other persons list:\n",
    "        for climb in people.loc[otherUser[0]]['starRatings']:\n",
    "            for userClimb in people.loc[userUrl]['starRatings']:\n",
    "                if climb[0]==userClimb[0]:\n",
    "                    diff = math.fabs(people.loc[otherUser[0]]['starRatings'][climb]-people.loc[userUrl]['starRatings'][userClimb])\n",
    "                    if diff==0: otherUser[1] = otherUser[1]+2\n",
    "                    if diff==1: otherUser[1] = otherUser[1]+1\n",
    "                    if diff==2: otherUser[1] = otherUser[1]+0\n",
    "                    if diff==3: otherUser[1] = otherUser[1]-1\n",
    "                    if diff==4: otherUser[1] = otherUser[1]-2\n",
    "    \n",
    "    return relIndex\n",
    "\n",
    "start = time.time()    \n",
    "stef = compare_persons('https://www.mountainproject.com/user/11029/stefan-griebel', people)\n",
    "end = time.time()\n",
    "print(\"Time to run comparison:\", end-startJupyter Notebooks)"
   ]
  }
 ],
 "metadata": {
  "kernelspec": {
   "display_name": "Python 3",
   "language": "python",
   "name": "python3"
  },
  "language_info": {
   "codemirror_mode": {
    "name": "ipython",
    "version": 3
   },
   "file_extension": ".py",
   "mimetype": "text/x-python",
   "name": "python",
   "nbconvert_exporter": "python",
   "pygments_lexer": "ipython3",
   "version": "3.7.1"
  }
 },
 "nbformat": 4,
 "nbformat_minor": 2
}
